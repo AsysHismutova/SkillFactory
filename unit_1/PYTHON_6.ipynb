{
 "metadata": {
  "language_info": {
   "codemirror_mode": {
    "name": "ipython",
    "version": 3
   },
   "file_extension": ".py",
   "mimetype": "text/x-python",
   "name": "python",
   "nbconvert_exporter": "python",
   "pygments_lexer": "ipython3",
   "version": "3.8.2-final"
  },
  "orig_nbformat": 2,
  "kernelspec": {
   "name": "python3",
   "display_name": "Python 3.8.2 32-bit",
   "metadata": {
    "interpreter": {
     "hash": "2db524e06e9f5f4ffedc911c917cb75e12dbc923643829bf417064a77eb14d37"
    }
   }
  }
 },
 "nbformat": 4,
 "nbformat_minor": 2,
 "cells": [
  {
   "cell_type": "code",
   "execution_count": 1,
   "metadata": {},
   "outputs": [],
   "source": [
    "import pandas as pd"
   ]
  },
  {
   "cell_type": "code",
   "execution_count": 3,
   "metadata": {},
   "outputs": [
    {
     "output_type": "execute_result",
     "data": {
      "text/plain": [
       "                 Name  Age Nationality                 Club      Value  \\\n",
       "0            L. Messi   31   Argentina         FC Barcelona  110500000   \n",
       "1   Cristiano Ronaldo   33    Portugal             Juventus   77000000   \n",
       "2           Neymar Jr   26      Brazil  Paris Saint-Germain  118500000   \n",
       "3              De Gea   27       Spain    Manchester United   72000000   \n",
       "4        K. De Bruyne   27     Belgium      Manchester City  102000000   \n",
       "5           E. Hazard   27     Belgium              Chelsea   93000000   \n",
       "6          L. ModriД‡   32     Croatia          Real Madrid   67000000   \n",
       "7          L. SuГЎrez   31     Uruguay         FC Barcelona   80000000   \n",
       "8        Sergio Ramos   32       Spain          Real Madrid   51000000   \n",
       "9            J. Oblak   25    Slovenia     AtlГ©tico Madrid   68000000   \n",
       "10     R. Lewandowski   29      Poland   FC Bayern MГјnchen   77000000   \n",
       "11           T. Kroos   28     Germany          Real Madrid   76500000   \n",
       "12          D. GodГ­n   32     Uruguay     AtlГ©tico Madrid   44000000   \n",
       "13        David Silva   32       Spain      Manchester City   60000000   \n",
       "14          N. KantГ©   27      France              Chelsea   63000000   \n",
       "15          P. Dybala   24   Argentina             Juventus   89000000   \n",
       "16            H. Kane   24     England    Tottenham Hotspur   83500000   \n",
       "17       A. Griezmann   27      France     AtlГ©tico Madrid   78000000   \n",
       "18      M. ter Stegen   26     Germany         FC Barcelona   58000000   \n",
       "19        T. Courtois   26     Belgium          Real Madrid   53500000   \n",
       "20    Sergio Busquets   29       Spain         FC Barcelona   51500000   \n",
       "21          E. Cavani   31     Uruguay  Paris Saint-Germain   60000000   \n",
       "22           M. Neuer   32     Germany   FC Bayern MГјnchen   38000000   \n",
       "23         S. AgГјero   30   Argentina      Manchester City   64500000   \n",
       "24       G. Chiellini   33       Italy             Juventus   27000000   \n",
       "\n",
       "      Wage Position  \n",
       "0   565000       RF  \n",
       "1   405000       ST  \n",
       "2   290000       LW  \n",
       "3   260000       GK  \n",
       "4   355000      RCM  \n",
       "5   340000       LF  \n",
       "6   420000      RCM  \n",
       "7   455000       RS  \n",
       "8   380000      RCB  \n",
       "9    94000       GK  \n",
       "10  205000       ST  \n",
       "11  355000      LCM  \n",
       "12  125000       CB  \n",
       "13  285000      LCM  \n",
       "14  225000      LDM  \n",
       "15  205000       LF  \n",
       "16  205000       ST  \n",
       "17  145000      CAM  \n",
       "18  240000       GK  \n",
       "19  240000       GK  \n",
       "20  315000      CDM  \n",
       "21  200000       LS  \n",
       "22  130000       GK  \n",
       "23  300000       ST  \n",
       "24  215000      LCB  "
      ],
      "text/html": "<div>\n<style scoped>\n    .dataframe tbody tr th:only-of-type {\n        vertical-align: middle;\n    }\n\n    .dataframe tbody tr th {\n        vertical-align: top;\n    }\n\n    .dataframe thead th {\n        text-align: right;\n    }\n</style>\n<table border=\"1\" class=\"dataframe\">\n  <thead>\n    <tr style=\"text-align: right;\">\n      <th></th>\n      <th>Name</th>\n      <th>Age</th>\n      <th>Nationality</th>\n      <th>Club</th>\n      <th>Value</th>\n      <th>Wage</th>\n      <th>Position</th>\n    </tr>\n  </thead>\n  <tbody>\n    <tr>\n      <th>0</th>\n      <td>L. Messi</td>\n      <td>31</td>\n      <td>Argentina</td>\n      <td>FC Barcelona</td>\n      <td>110500000</td>\n      <td>565000</td>\n      <td>RF</td>\n    </tr>\n    <tr>\n      <th>1</th>\n      <td>Cristiano Ronaldo</td>\n      <td>33</td>\n      <td>Portugal</td>\n      <td>Juventus</td>\n      <td>77000000</td>\n      <td>405000</td>\n      <td>ST</td>\n    </tr>\n    <tr>\n      <th>2</th>\n      <td>Neymar Jr</td>\n      <td>26</td>\n      <td>Brazil</td>\n      <td>Paris Saint-Germain</td>\n      <td>118500000</td>\n      <td>290000</td>\n      <td>LW</td>\n    </tr>\n    <tr>\n      <th>3</th>\n      <td>De Gea</td>\n      <td>27</td>\n      <td>Spain</td>\n      <td>Manchester United</td>\n      <td>72000000</td>\n      <td>260000</td>\n      <td>GK</td>\n    </tr>\n    <tr>\n      <th>4</th>\n      <td>K. De Bruyne</td>\n      <td>27</td>\n      <td>Belgium</td>\n      <td>Manchester City</td>\n      <td>102000000</td>\n      <td>355000</td>\n      <td>RCM</td>\n    </tr>\n    <tr>\n      <th>5</th>\n      <td>E. Hazard</td>\n      <td>27</td>\n      <td>Belgium</td>\n      <td>Chelsea</td>\n      <td>93000000</td>\n      <td>340000</td>\n      <td>LF</td>\n    </tr>\n    <tr>\n      <th>6</th>\n      <td>L. ModriД‡</td>\n      <td>32</td>\n      <td>Croatia</td>\n      <td>Real Madrid</td>\n      <td>67000000</td>\n      <td>420000</td>\n      <td>RCM</td>\n    </tr>\n    <tr>\n      <th>7</th>\n      <td>L. SuГЎrez</td>\n      <td>31</td>\n      <td>Uruguay</td>\n      <td>FC Barcelona</td>\n      <td>80000000</td>\n      <td>455000</td>\n      <td>RS</td>\n    </tr>\n    <tr>\n      <th>8</th>\n      <td>Sergio Ramos</td>\n      <td>32</td>\n      <td>Spain</td>\n      <td>Real Madrid</td>\n      <td>51000000</td>\n      <td>380000</td>\n      <td>RCB</td>\n    </tr>\n    <tr>\n      <th>9</th>\n      <td>J. Oblak</td>\n      <td>25</td>\n      <td>Slovenia</td>\n      <td>AtlГ©tico Madrid</td>\n      <td>68000000</td>\n      <td>94000</td>\n      <td>GK</td>\n    </tr>\n    <tr>\n      <th>10</th>\n      <td>R. Lewandowski</td>\n      <td>29</td>\n      <td>Poland</td>\n      <td>FC Bayern MГјnchen</td>\n      <td>77000000</td>\n      <td>205000</td>\n      <td>ST</td>\n    </tr>\n    <tr>\n      <th>11</th>\n      <td>T. Kroos</td>\n      <td>28</td>\n      <td>Germany</td>\n      <td>Real Madrid</td>\n      <td>76500000</td>\n      <td>355000</td>\n      <td>LCM</td>\n    </tr>\n    <tr>\n      <th>12</th>\n      <td>D. GodГ­n</td>\n      <td>32</td>\n      <td>Uruguay</td>\n      <td>AtlГ©tico Madrid</td>\n      <td>44000000</td>\n      <td>125000</td>\n      <td>CB</td>\n    </tr>\n    <tr>\n      <th>13</th>\n      <td>David Silva</td>\n      <td>32</td>\n      <td>Spain</td>\n      <td>Manchester City</td>\n      <td>60000000</td>\n      <td>285000</td>\n      <td>LCM</td>\n    </tr>\n    <tr>\n      <th>14</th>\n      <td>N. KantГ©</td>\n      <td>27</td>\n      <td>France</td>\n      <td>Chelsea</td>\n      <td>63000000</td>\n      <td>225000</td>\n      <td>LDM</td>\n    </tr>\n    <tr>\n      <th>15</th>\n      <td>P. Dybala</td>\n      <td>24</td>\n      <td>Argentina</td>\n      <td>Juventus</td>\n      <td>89000000</td>\n      <td>205000</td>\n      <td>LF</td>\n    </tr>\n    <tr>\n      <th>16</th>\n      <td>H. Kane</td>\n      <td>24</td>\n      <td>England</td>\n      <td>Tottenham Hotspur</td>\n      <td>83500000</td>\n      <td>205000</td>\n      <td>ST</td>\n    </tr>\n    <tr>\n      <th>17</th>\n      <td>A. Griezmann</td>\n      <td>27</td>\n      <td>France</td>\n      <td>AtlГ©tico Madrid</td>\n      <td>78000000</td>\n      <td>145000</td>\n      <td>CAM</td>\n    </tr>\n    <tr>\n      <th>18</th>\n      <td>M. ter Stegen</td>\n      <td>26</td>\n      <td>Germany</td>\n      <td>FC Barcelona</td>\n      <td>58000000</td>\n      <td>240000</td>\n      <td>GK</td>\n    </tr>\n    <tr>\n      <th>19</th>\n      <td>T. Courtois</td>\n      <td>26</td>\n      <td>Belgium</td>\n      <td>Real Madrid</td>\n      <td>53500000</td>\n      <td>240000</td>\n      <td>GK</td>\n    </tr>\n    <tr>\n      <th>20</th>\n      <td>Sergio Busquets</td>\n      <td>29</td>\n      <td>Spain</td>\n      <td>FC Barcelona</td>\n      <td>51500000</td>\n      <td>315000</td>\n      <td>CDM</td>\n    </tr>\n    <tr>\n      <th>21</th>\n      <td>E. Cavani</td>\n      <td>31</td>\n      <td>Uruguay</td>\n      <td>Paris Saint-Germain</td>\n      <td>60000000</td>\n      <td>200000</td>\n      <td>LS</td>\n    </tr>\n    <tr>\n      <th>22</th>\n      <td>M. Neuer</td>\n      <td>32</td>\n      <td>Germany</td>\n      <td>FC Bayern MГјnchen</td>\n      <td>38000000</td>\n      <td>130000</td>\n      <td>GK</td>\n    </tr>\n    <tr>\n      <th>23</th>\n      <td>S. AgГјero</td>\n      <td>30</td>\n      <td>Argentina</td>\n      <td>Manchester City</td>\n      <td>64500000</td>\n      <td>300000</td>\n      <td>ST</td>\n    </tr>\n    <tr>\n      <th>24</th>\n      <td>G. Chiellini</td>\n      <td>33</td>\n      <td>Italy</td>\n      <td>Juventus</td>\n      <td>27000000</td>\n      <td>215000</td>\n      <td>LCB</td>\n    </tr>\n  </tbody>\n</table>\n</div>"
     },
     "metadata": {},
     "execution_count": 3
    }
   ],
   "source": [
    "football = pd.read_csv('data_sf2.csv', sep=';')\n",
    "small_df = football[football.columns[1:8]].head(25)\n",
    "small_df"
   ]
  },
  {
   "cell_type": "code",
   "execution_count": 3,
   "metadata": {},
   "outputs": [
    {
     "output_type": "display_data",
     "data": {
      "text/plain": "Spain        4\nUruguay      3\nBelgium      3\nArgentina    3\nGermany      3\nFrance       2\nCroatia      1\nPortugal     1\nItaly        1\nEngland      1\nPoland       1\nSlovenia     1\nBrazil       1\nName: Nationality, dtype: int64"
     },
     "metadata": {}
    }
   ],
   "source": [
    "s = small_df['Nationality'].value_counts()\n",
    "display(s)"
   ]
  },
  {
   "cell_type": "code",
   "execution_count": 4,
   "metadata": {},
   "outputs": [
    {
     "output_type": "execute_result",
     "data": {
      "text/plain": [
       "Index(['Spain', 'Uruguay', 'Belgium', 'Argentina', 'Germany', 'France',\n",
       "       'Croatia', 'Portugal', 'Italy', 'England', 'Poland', 'Slovenia',\n",
       "       'Brazil'],\n",
       "      dtype='object')"
      ]
     },
     "metadata": {},
     "execution_count": 4
    }
   ],
   "source": [
    "s.index"
   ]
  },
  {
   "cell_type": "code",
   "execution_count": 5,
   "metadata": {},
   "outputs": [
    {
     "output_type": "execute_result",
     "data": {
      "text/plain": [
       "3"
      ]
     },
     "metadata": {},
     "execution_count": 5
    }
   ],
   "source": [
    "s['Germany']"
   ]
  },
  {
   "cell_type": "code",
   "execution_count": 6,
   "metadata": {},
   "outputs": [
    {
     "output_type": "execute_result",
     "data": {
      "text/plain": [
       "Spain        4\n",
       "Uruguay      3\n",
       "Belgium      3\n",
       "Argentina    3\n",
       "Germany      3\n",
       "France       2\n",
       "Name: Nationality, dtype: int64"
      ]
     },
     "metadata": {},
     "execution_count": 6
    }
   ],
   "source": [
    "s.loc[s > 1]"
   ]
  },
  {
   "cell_type": "code",
   "execution_count": 14,
   "metadata": {},
   "outputs": [
    {
     "output_type": "execute_result",
     "data": {
      "text/plain": [
       "Shonan Bellmare        30\n",
       "V-Varen Nagasaki       30\n",
       "De Graafschap          29\n",
       "FC Emmen               29\n",
       "Vissel Kobe            29\n",
       "                       ..\n",
       "Olympiacos CFP          8\n",
       "VitГіria GuimarГЈes     7\n",
       "GD Chaves               7\n",
       "Dinamo Zagreb           7\n",
       "AtlГ©tico Mineiro       6\n",
       "Name: Club, Length: 650, dtype: int64"
      ]
     },
     "metadata": {},
     "execution_count": 14
    }
   ],
   "source": [
    "fcl = football['Club'].value_counts()\n",
    "fcl"
   ]
  },
  {
   "cell_type": "code",
   "execution_count": 15,
   "metadata": {},
   "outputs": [
    {
     "output_type": "display_data",
     "data": {
      "text/plain": "Spain        0.16\nUruguay      0.12\nBelgium      0.12\nArgentina    0.12\nGermany      0.12\nFrance       0.08\nCroatia      0.04\nPortugal     0.04\nItaly        0.04\nEngland      0.04\nPoland       0.04\nSlovenia     0.04\nBrazil       0.04\nName: Nationality, dtype: float64"
     },
     "metadata": {}
    }
   ],
   "source": [
    "s = small_df['Nationality'].value_counts(normalize=True)\n",
    "display(s)"
   ]
  },
  {
   "cell_type": "code",
   "execution_count": 16,
   "metadata": {},
   "outputs": [
    {
     "output_type": "execute_result",
     "data": {
      "text/plain": [
       "GK     0.127239\n",
       "ST     0.117237\n",
       "CB     0.108785\n",
       "CM     0.082732\n",
       "LB     0.077692\n",
       "RB     0.073505\n",
       "RM     0.059394\n",
       "LM     0.056447\n",
       "CDM    0.053578\n",
       "CAM    0.049081\n",
       "RCB    0.032411\n",
       "LCB    0.031713\n",
       "LW     0.018764\n",
       "RCM    0.018609\n",
       "RW     0.018376\n",
       "LCM    0.018066\n",
       "LDM    0.011476\n",
       "RDM    0.010700\n",
       "LS     0.009382\n",
       "RS     0.008839\n",
       "RWB    0.005428\n",
       "LWB    0.004652\n",
       "CF     0.003954\n",
       "LF     0.000620\n",
       "LAM    0.000465\n",
       "RF     0.000465\n",
       "RAM    0.000388\n",
       "Name: Position, dtype: float64"
      ]
     },
     "metadata": {},
     "execution_count": 16
    }
   ],
   "source": [
    "fps = football['Position'].value_counts(normalize=True)\n",
    "fps"
   ]
  },
  {
   "cell_type": "code",
   "execution_count": 17,
   "metadata": {},
   "outputs": [
    {
     "output_type": "display_data",
     "data": {
      "text/plain": "(211750.0, 329500.0]     9\n(93528.999, 211750.0]    8\n(329500.0, 447250.0]     6\n(447250.0, 565000.0]     2\nName: Wage, dtype: int64"
     },
     "metadata": {}
    }
   ],
   "source": [
    "s = small_df['Wage'].value_counts(bins=4)\n",
    "display(s)"
   ]
  },
  {
   "cell_type": "code",
   "execution_count": 18,
   "metadata": {},
   "outputs": [
    {
     "output_type": "execute_result",
     "data": {
      "text/plain": [
       "         Name  Age Nationality          Club      Value    Wage Position\n",
       "0    L. Messi   31   Argentina  FC Barcelona  110500000  565000       RF\n",
       "7  L. SuГЎrez   31     Uruguay  FC Barcelona   80000000  455000       RS"
      ],
      "text/html": "<div>\n<style scoped>\n    .dataframe tbody tr th:only-of-type {\n        vertical-align: middle;\n    }\n\n    .dataframe tbody tr th {\n        vertical-align: top;\n    }\n\n    .dataframe thead th {\n        text-align: right;\n    }\n</style>\n<table border=\"1\" class=\"dataframe\">\n  <thead>\n    <tr style=\"text-align: right;\">\n      <th></th>\n      <th>Name</th>\n      <th>Age</th>\n      <th>Nationality</th>\n      <th>Club</th>\n      <th>Value</th>\n      <th>Wage</th>\n      <th>Position</th>\n    </tr>\n  </thead>\n  <tbody>\n    <tr>\n      <th>0</th>\n      <td>L. Messi</td>\n      <td>31</td>\n      <td>Argentina</td>\n      <td>FC Barcelona</td>\n      <td>110500000</td>\n      <td>565000</td>\n      <td>RF</td>\n    </tr>\n    <tr>\n      <th>7</th>\n      <td>L. SuГЎrez</td>\n      <td>31</td>\n      <td>Uruguay</td>\n      <td>FC Barcelona</td>\n      <td>80000000</td>\n      <td>455000</td>\n      <td>RS</td>\n    </tr>\n  </tbody>\n</table>\n</div>"
     },
     "metadata": {},
     "execution_count": 18
    }
   ],
   "source": [
    "# find players with the largest wage from the previous table\n",
    "small_df.loc[(small_df['Wage'] > s.index[3].left) & (small_df['Wage'] <= s.index[3].right)]"
   ]
  },
  {
   "cell_type": "code",
   "execution_count": 27,
   "metadata": {},
   "outputs": [
    {
     "output_type": "execute_result",
     "data": {
      "text/plain": [
       "0      True\n",
       "1     False\n",
       "2     False\n",
       "3     False\n",
       "4     False\n",
       "5     False\n",
       "6     False\n",
       "7      True\n",
       "8     False\n",
       "9     False\n",
       "10    False\n",
       "11    False\n",
       "12    False\n",
       "13    False\n",
       "14    False\n",
       "15    False\n",
       "16    False\n",
       "17    False\n",
       "18    False\n",
       "19    False\n",
       "20    False\n",
       "21    False\n",
       "22    False\n",
       "23    False\n",
       "24    False\n",
       "Name: Wage, dtype: bool"
      ]
     },
     "metadata": {},
     "execution_count": 27
    }
   ],
   "source": [
    "small_df['Wage'] > s.index[3].left"
   ]
  },
  {
   "cell_type": "code",
   "execution_count": 40,
   "metadata": {},
   "outputs": [
    {
     "output_type": "execute_result",
     "data": {
      "text/plain": [
       "(21.2, 39.4]     0.376754\n",
       "(39.4, 57.6]     0.306816\n",
       "(57.6, 75.8]     0.163449\n",
       "(2.908, 21.2]    0.136466\n",
       "(75.8, 94.0]     0.016515\n",
       "Name: FKAccuracy, dtype: float64"
      ]
     },
     "metadata": {},
     "execution_count": 40
    }
   ],
   "source": [
    "fcl = football['FKAccuracy'].value_counts(bins=5, normalize=True)\n",
    "fcl"
   ]
  },
  {
   "cell_type": "code",
   "execution_count": 41,
   "metadata": {},
   "outputs": [
    {
     "output_type": "stream",
     "name": "stdout",
     "text": [
      "Index(['Spain', 'Uruguay', 'Belgium', 'Argentina', 'Germany', 'France',\n       'Croatia', 'Portugal', 'Italy', 'England', 'Poland', 'Slovenia',\n       'Brazil'],\n      dtype='object')\n13\n"
     ]
    }
   ],
   "source": [
    "s = small_df['Nationality'].value_counts()\n",
    "print(s.index)\n",
    "print(len(s.index))"
   ]
  },
  {
   "cell_type": "code",
   "execution_count": 44,
   "metadata": {},
   "outputs": [
    {
     "output_type": "execute_result",
     "data": {
      "text/plain": [
       "13"
      ]
     },
     "metadata": {},
     "execution_count": 44
    }
   ],
   "source": [
    "small_df['Nationality'].unique()\n",
    "len(small_df['Nationality'].unique())\n",
    "small_df['Nationality'].nunique() # count unique values"
   ]
  },
  {
   "cell_type": "code",
   "execution_count": 45,
   "metadata": {},
   "outputs": [
    {
     "output_type": "display_data",
     "data": {
      "text/plain": "        index  Nationality\n0       Spain            4\n1     Uruguay            3\n2     Belgium            3\n3   Argentina            3\n4     Germany            3\n5      France            2\n6     Croatia            1\n7    Portugal            1\n8       Italy            1\n9     England            1\n10     Poland            1\n11   Slovenia            1\n12     Brazil            1",
      "text/html": "<div>\n<style scoped>\n    .dataframe tbody tr th:only-of-type {\n        vertical-align: middle;\n    }\n\n    .dataframe tbody tr th {\n        vertical-align: top;\n    }\n\n    .dataframe thead th {\n        text-align: right;\n    }\n</style>\n<table border=\"1\" class=\"dataframe\">\n  <thead>\n    <tr style=\"text-align: right;\">\n      <th></th>\n      <th>index</th>\n      <th>Nationality</th>\n    </tr>\n  </thead>\n  <tbody>\n    <tr>\n      <th>0</th>\n      <td>Spain</td>\n      <td>4</td>\n    </tr>\n    <tr>\n      <th>1</th>\n      <td>Uruguay</td>\n      <td>3</td>\n    </tr>\n    <tr>\n      <th>2</th>\n      <td>Belgium</td>\n      <td>3</td>\n    </tr>\n    <tr>\n      <th>3</th>\n      <td>Argentina</td>\n      <td>3</td>\n    </tr>\n    <tr>\n      <th>4</th>\n      <td>Germany</td>\n      <td>3</td>\n    </tr>\n    <tr>\n      <th>5</th>\n      <td>France</td>\n      <td>2</td>\n    </tr>\n    <tr>\n      <th>6</th>\n      <td>Croatia</td>\n      <td>1</td>\n    </tr>\n    <tr>\n      <th>7</th>\n      <td>Portugal</td>\n      <td>1</td>\n    </tr>\n    <tr>\n      <th>8</th>\n      <td>Italy</td>\n      <td>1</td>\n    </tr>\n    <tr>\n      <th>9</th>\n      <td>England</td>\n      <td>1</td>\n    </tr>\n    <tr>\n      <th>10</th>\n      <td>Poland</td>\n      <td>1</td>\n    </tr>\n    <tr>\n      <th>11</th>\n      <td>Slovenia</td>\n      <td>1</td>\n    </tr>\n    <tr>\n      <th>12</th>\n      <td>Brazil</td>\n      <td>1</td>\n    </tr>\n  </tbody>\n</table>\n</div>"
     },
     "metadata": {}
    }
   ],
   "source": [
    "# value_counts result to dataframe\n",
    "s = small_df['Nationality'].value_counts()\n",
    "s_df = s.reset_index()\n",
    "display(s_df)"
   ]
  },
  {
   "cell_type": "code",
   "execution_count": 46,
   "metadata": {},
   "outputs": [
    {
     "output_type": "display_data",
     "data": {
      "text/plain": "   Nationality  Players Count\n0        Spain              4\n1      Uruguay              3\n2      Belgium              3\n3    Argentina              3\n4      Germany              3\n5       France              2\n6      Croatia              1\n7     Portugal              1\n8        Italy              1\n9      England              1\n10      Poland              1\n11    Slovenia              1\n12      Brazil              1",
      "text/html": "<div>\n<style scoped>\n    .dataframe tbody tr th:only-of-type {\n        vertical-align: middle;\n    }\n\n    .dataframe tbody tr th {\n        vertical-align: top;\n    }\n\n    .dataframe thead th {\n        text-align: right;\n    }\n</style>\n<table border=\"1\" class=\"dataframe\">\n  <thead>\n    <tr style=\"text-align: right;\">\n      <th></th>\n      <th>Nationality</th>\n      <th>Players Count</th>\n    </tr>\n  </thead>\n  <tbody>\n    <tr>\n      <th>0</th>\n      <td>Spain</td>\n      <td>4</td>\n    </tr>\n    <tr>\n      <th>1</th>\n      <td>Uruguay</td>\n      <td>3</td>\n    </tr>\n    <tr>\n      <th>2</th>\n      <td>Belgium</td>\n      <td>3</td>\n    </tr>\n    <tr>\n      <th>3</th>\n      <td>Argentina</td>\n      <td>3</td>\n    </tr>\n    <tr>\n      <th>4</th>\n      <td>Germany</td>\n      <td>3</td>\n    </tr>\n    <tr>\n      <th>5</th>\n      <td>France</td>\n      <td>2</td>\n    </tr>\n    <tr>\n      <th>6</th>\n      <td>Croatia</td>\n      <td>1</td>\n    </tr>\n    <tr>\n      <th>7</th>\n      <td>Portugal</td>\n      <td>1</td>\n    </tr>\n    <tr>\n      <th>8</th>\n      <td>Italy</td>\n      <td>1</td>\n    </tr>\n    <tr>\n      <th>9</th>\n      <td>England</td>\n      <td>1</td>\n    </tr>\n    <tr>\n      <th>10</th>\n      <td>Poland</td>\n      <td>1</td>\n    </tr>\n    <tr>\n      <th>11</th>\n      <td>Slovenia</td>\n      <td>1</td>\n    </tr>\n    <tr>\n      <th>12</th>\n      <td>Brazil</td>\n      <td>1</td>\n    </tr>\n  </tbody>\n</table>\n</div>"
     },
     "metadata": {}
    }
   ],
   "source": [
    "s_df.columns = ['Nationality','Players Count']\n",
    "display(s_df)"
   ]
  },
  {
   "cell_type": "code",
   "execution_count": null,
   "metadata": {},
   "outputs": [],
   "source": [
    "##### 6. Задачи"
   ]
  },
  {
   "cell_type": "code",
   "execution_count": 63,
   "metadata": {},
   "outputs": [
    {
     "output_type": "execute_result",
     "data": {
      "text/plain": [
       "(620.999, 95750.0]      97.0\n",
       "(95750.0, 190500.0]      2.0\n",
       "(190500.0, 285250.0]     1.0\n",
       "(285250.0, 380000.0]     0.0\n",
       "Name: Wage, dtype: float64"
      ]
     },
     "metadata": {},
     "execution_count": 63
    }
   ],
   "source": [
    "# Задача 1.\n",
    "small_df2 = football[football.Nationality=='Spain']\n",
    "fcl = small_df2['Wage'].value_counts(bins = 4, normalize=True)\n",
    "round(fcl*100)"
   ]
  },
  {
   "cell_type": "code",
   "execution_count": 64,
   "metadata": {},
   "outputs": [
    {
     "output_type": "execute_result",
     "data": {
      "text/plain": [
       "13"
      ]
     },
     "metadata": {},
     "execution_count": 64
    }
   ],
   "source": [
    "# Задача 2.\n",
    "small_df2 = football[football.Club=='Manchester United']\n",
    "small_df2['Nationality'].nunique()"
   ]
  },
  {
   "cell_type": "code",
   "execution_count": 67,
   "metadata": {},
   "outputs": [
    {
     "output_type": "execute_result",
     "data": {
      "text/plain": [
       "array(['Alex Sandro', 'Douglas Costa'], dtype=object)"
      ]
     },
     "metadata": {},
     "execution_count": 67
    }
   ],
   "source": [
    "# Задача 3.\n",
    "small_df2 = football[(football.Nationality=='Brazil') & (football.Club=='Juventus')]\n",
    "small_df2['Name'].unique()"
   ]
  },
  {
   "cell_type": "code",
   "execution_count": 69,
   "metadata": {},
   "outputs": [
    {
     "output_type": "execute_result",
     "data": {
      "text/plain": [
       "Hokkaido Consadole Sapporo    4\n",
       "Club AtlГ©tico HuracГЎn       4\n",
       "Estudiantes de La Plata       3\n",
       "San MartГ­n de San Juan       3\n",
       "Club AtlГ©tico Tigre          3\n",
       "                             ..\n",
       "VГ©lez Sarsfield              1\n",
       "Universidad de Chile          1\n",
       "Independiente Santa Fe        1\n",
       "San Luis de Quillota          1\n",
       "TromsГё IL                    1\n",
       "Name: Club, Length: 212, dtype: int64"
      ]
     },
     "metadata": {},
     "execution_count": 69
    }
   ],
   "source": [
    "# Задача 4.\n",
    "small_df2 = football[(football.Age>35)]\n",
    "small_df2['Club'].value_counts()"
   ]
  },
  {
   "cell_type": "code",
   "execution_count": 73,
   "metadata": {},
   "outputs": [
    {
     "output_type": "execute_result",
     "data": {
      "text/plain": [
       "(22.25, 28.5]      200\n",
       "(15.974, 22.25]    197\n",
       "(28.5, 34.75]      128\n",
       "(34.75, 41.0]       49\n",
       "Name: Age, dtype: int64"
      ]
     },
     "metadata": {},
     "execution_count": 73
    }
   ],
   "source": [
    "# Задача 5.\n",
    "small_df2 = football[football.Nationality=='Argentina']\n",
    "small_df2['Age'].value_counts(bins=4)"
   ]
  },
  {
   "cell_type": "code",
   "execution_count": 76,
   "metadata": {},
   "outputs": [
    {
     "output_type": "execute_result",
     "data": {
      "text/plain": [
       "21    11.773472\n",
       "22     9.538003\n",
       "20     7.749627\n",
       "23     7.153502\n",
       "25     6.408346\n",
       "27     6.259314\n",
       "24     5.961252\n",
       "28     5.365127\n",
       "26     5.365127\n",
       "29     4.769001\n",
       "19     4.769001\n",
       "18     3.874814\n",
       "30     3.874814\n",
       "31     3.278689\n",
       "32     3.278689\n",
       "33     3.129657\n",
       "34     2.235469\n",
       "17     1.341282\n",
       "35     1.192250\n",
       "36     1.043219\n",
       "37     0.894188\n",
       "39     0.298063\n",
       "16     0.298063\n",
       "38     0.149031\n",
       "Name: Age, dtype: float64"
      ]
     },
     "metadata": {},
     "execution_count": 76
    }
   ],
   "source": [
    "# Задача 6.\n",
    "small_df2 = football[football.Nationality=='Spain']\n",
    "small_df2['Age'].value_counts(normalize=True) * 100"
   ]
  },
  {
   "source": [
    "##### 7. Функция groupby\n",
    "# Each Club has a list of its playres indexes \n",
    "football.groupby(['Club']).groups"
   ],
   "cell_type": "code",
   "metadata": {},
   "execution_count": null,
   "outputs": []
  },
  {
   "cell_type": "code",
   "execution_count": 78,
   "metadata": {},
   "outputs": [
    {
     "output_type": "display_data",
     "data": {
      "text/plain": "                            N  Age     Value    Wage  Crossing  Finishing  \\\nClub                                                                        \n SSV Jahn Regensburg   129124  609  15195000   90000      1104        944   \n1. FC Heidenheim 1846  117834  473  18290000   76000       961        860   \n1. FC Kaiserslautern   167351  544  11195000   33000      1106        918   \n1. FC KГ¶ln             54865  225  46810000   92000       444        357   \n1. FC Magdeburg        116731  515  57525000   84000       948        903   \n...                       ...  ...       ...     ...       ...        ...   \nZagЕ‚Д™bie Sosnowiec   220803  656   6815000   27000      1161       1007   \nГ–rebro SK             224465  622   8465000   36000      1114        974   \nГ–stersunds FK         136103  478  11030000   39000       944        805   \nГ‡aykur Rizespor       119137  557  27515000  118000      1110        921   \nЕљlД…sk WrocЕ‚aw       172358  628   9170000   50000      1058       1054   \n\n                       HeadingAccuracy  ShortPassing  Volleys  Dribbling  ...  \\\nClub                                                                      ...   \n SSV Jahn Regensburg              1283          1362      944       1196  ...   \n1. FC Heidenheim 1846              955          1136      846       1040  ...   \n1. FC Kaiserslautern              1133          1272      899       1131  ...   \n1. FC KГ¶ln                        434           567      320        486  ...   \n1. FC Magdeburg                   1044          1157      769       1024  ...   \n...                                ...           ...      ...        ...  ...   \nZagЕ‚Д™bie Sosnowiec              1152          1357      979       1252  ...   \nГ–rebro SK                        1149          1311      965       1270  ...   \nГ–stersunds FK                     856          1109      801       1066  ...   \nГ‡aykur Rizespor                  1137          1290      888       1233  ...   \nЕљlД…sk WrocЕ‚aw                  1289          1313      988       1238  ...   \n\n                       Penalties  Composure  Marking  StandingTackle  \\\nClub                                                                   \n SSV Jahn Regensburg        1042       1332     1205            1146   \n1. FC Heidenheim 1846        923       1093      888             952   \n1. FC Kaiserslautern        1030       1174      938             989   \n1. FC KГ¶ln                  431        515      453             458   \n1. FC Magdeburg              938       1057      933             930   \n...                          ...        ...      ...             ...   \nZagЕ‚Д™bie Sosnowiec        1113       1371     1219            1187   \nГ–rebro SK                  1066       1393     1112            1045   \nГ–stersunds FK               847       1132      920             842   \nГ‡aykur Rizespor            1063       1200     1050            1155   \nЕљlД…sk WrocЕ‚aw            1150       1314     1047            1161   \n\n                       SlidingTackle  GKDiving  GKHandling  GKKicking  \\\nClub                                                                    \n SSV Jahn Regensburg            1088       405         406        368   \n1. FC Heidenheim 1846            890       335         317        287   \n1. FC Kaiserslautern             996       392         373        348   \n1. FC KГ¶ln                      452       272         251        276   \n1. FC Magdeburg                  892       367         373        354   \n...                              ...       ...         ...        ...   \nZagЕ‚Д™bie Sosnowiec            1156       427         391        417   \nГ–rebro SK                      1008       412         406        386   \nГ–stersunds FK                   816       342         357        369   \nГ‡aykur Rizespor                1143       375         394        387   \nЕљlД…sk WrocЕ‚aw                1129       408         403        367   \n\n                       GKPositioning  GKReflexes  \nClub                                              \n SSV Jahn Regensburg             409         424  \n1. FC Heidenheim 1846            335         306  \n1. FC Kaiserslautern             368         356  \n1. FC KГ¶ln                      252         268  \n1. FC Magdeburg                  361         394  \n...                              ...         ...  \nZagЕ‚Д™bie Sosnowiec             391         413  \nГ–rebro SK                       428         407  \nГ–stersunds FK                   337         363  \nГ‡aykur Rizespor                 388         389  \nЕљlД…sk WrocЕ‚aw                 394         403  \n\n[650 rows x 38 columns]",
      "text/html": "<div>\n<style scoped>\n    .dataframe tbody tr th:only-of-type {\n        vertical-align: middle;\n    }\n\n    .dataframe tbody tr th {\n        vertical-align: top;\n    }\n\n    .dataframe thead th {\n        text-align: right;\n    }\n</style>\n<table border=\"1\" class=\"dataframe\">\n  <thead>\n    <tr style=\"text-align: right;\">\n      <th></th>\n      <th>N</th>\n      <th>Age</th>\n      <th>Value</th>\n      <th>Wage</th>\n      <th>Crossing</th>\n      <th>Finishing</th>\n      <th>HeadingAccuracy</th>\n      <th>ShortPassing</th>\n      <th>Volleys</th>\n      <th>Dribbling</th>\n      <th>...</th>\n      <th>Penalties</th>\n      <th>Composure</th>\n      <th>Marking</th>\n      <th>StandingTackle</th>\n      <th>SlidingTackle</th>\n      <th>GKDiving</th>\n      <th>GKHandling</th>\n      <th>GKKicking</th>\n      <th>GKPositioning</th>\n      <th>GKReflexes</th>\n    </tr>\n    <tr>\n      <th>Club</th>\n      <th></th>\n      <th></th>\n      <th></th>\n      <th></th>\n      <th></th>\n      <th></th>\n      <th></th>\n      <th></th>\n      <th></th>\n      <th></th>\n      <th></th>\n      <th></th>\n      <th></th>\n      <th></th>\n      <th></th>\n      <th></th>\n      <th></th>\n      <th></th>\n      <th></th>\n      <th></th>\n      <th></th>\n    </tr>\n  </thead>\n  <tbody>\n    <tr>\n      <th>SSV Jahn Regensburg</th>\n      <td>129124</td>\n      <td>609</td>\n      <td>15195000</td>\n      <td>90000</td>\n      <td>1104</td>\n      <td>944</td>\n      <td>1283</td>\n      <td>1362</td>\n      <td>944</td>\n      <td>1196</td>\n      <td>...</td>\n      <td>1042</td>\n      <td>1332</td>\n      <td>1205</td>\n      <td>1146</td>\n      <td>1088</td>\n      <td>405</td>\n      <td>406</td>\n      <td>368</td>\n      <td>409</td>\n      <td>424</td>\n    </tr>\n    <tr>\n      <th>1. FC Heidenheim 1846</th>\n      <td>117834</td>\n      <td>473</td>\n      <td>18290000</td>\n      <td>76000</td>\n      <td>961</td>\n      <td>860</td>\n      <td>955</td>\n      <td>1136</td>\n      <td>846</td>\n      <td>1040</td>\n      <td>...</td>\n      <td>923</td>\n      <td>1093</td>\n      <td>888</td>\n      <td>952</td>\n      <td>890</td>\n      <td>335</td>\n      <td>317</td>\n      <td>287</td>\n      <td>335</td>\n      <td>306</td>\n    </tr>\n    <tr>\n      <th>1. FC Kaiserslautern</th>\n      <td>167351</td>\n      <td>544</td>\n      <td>11195000</td>\n      <td>33000</td>\n      <td>1106</td>\n      <td>918</td>\n      <td>1133</td>\n      <td>1272</td>\n      <td>899</td>\n      <td>1131</td>\n      <td>...</td>\n      <td>1030</td>\n      <td>1174</td>\n      <td>938</td>\n      <td>989</td>\n      <td>996</td>\n      <td>392</td>\n      <td>373</td>\n      <td>348</td>\n      <td>368</td>\n      <td>356</td>\n    </tr>\n    <tr>\n      <th>1. FC KГ¶ln</th>\n      <td>54865</td>\n      <td>225</td>\n      <td>46810000</td>\n      <td>92000</td>\n      <td>444</td>\n      <td>357</td>\n      <td>434</td>\n      <td>567</td>\n      <td>320</td>\n      <td>486</td>\n      <td>...</td>\n      <td>431</td>\n      <td>515</td>\n      <td>453</td>\n      <td>458</td>\n      <td>452</td>\n      <td>272</td>\n      <td>251</td>\n      <td>276</td>\n      <td>252</td>\n      <td>268</td>\n    </tr>\n    <tr>\n      <th>1. FC Magdeburg</th>\n      <td>116731</td>\n      <td>515</td>\n      <td>57525000</td>\n      <td>84000</td>\n      <td>948</td>\n      <td>903</td>\n      <td>1044</td>\n      <td>1157</td>\n      <td>769</td>\n      <td>1024</td>\n      <td>...</td>\n      <td>938</td>\n      <td>1057</td>\n      <td>933</td>\n      <td>930</td>\n      <td>892</td>\n      <td>367</td>\n      <td>373</td>\n      <td>354</td>\n      <td>361</td>\n      <td>394</td>\n    </tr>\n    <tr>\n      <th>...</th>\n      <td>...</td>\n      <td>...</td>\n      <td>...</td>\n      <td>...</td>\n      <td>...</td>\n      <td>...</td>\n      <td>...</td>\n      <td>...</td>\n      <td>...</td>\n      <td>...</td>\n      <td>...</td>\n      <td>...</td>\n      <td>...</td>\n      <td>...</td>\n      <td>...</td>\n      <td>...</td>\n      <td>...</td>\n      <td>...</td>\n      <td>...</td>\n      <td>...</td>\n      <td>...</td>\n    </tr>\n    <tr>\n      <th>ZagЕ‚Д™bie Sosnowiec</th>\n      <td>220803</td>\n      <td>656</td>\n      <td>6815000</td>\n      <td>27000</td>\n      <td>1161</td>\n      <td>1007</td>\n      <td>1152</td>\n      <td>1357</td>\n      <td>979</td>\n      <td>1252</td>\n      <td>...</td>\n      <td>1113</td>\n      <td>1371</td>\n      <td>1219</td>\n      <td>1187</td>\n      <td>1156</td>\n      <td>427</td>\n      <td>391</td>\n      <td>417</td>\n      <td>391</td>\n      <td>413</td>\n    </tr>\n    <tr>\n      <th>Г–rebro SK</th>\n      <td>224465</td>\n      <td>622</td>\n      <td>8465000</td>\n      <td>36000</td>\n      <td>1114</td>\n      <td>974</td>\n      <td>1149</td>\n      <td>1311</td>\n      <td>965</td>\n      <td>1270</td>\n      <td>...</td>\n      <td>1066</td>\n      <td>1393</td>\n      <td>1112</td>\n      <td>1045</td>\n      <td>1008</td>\n      <td>412</td>\n      <td>406</td>\n      <td>386</td>\n      <td>428</td>\n      <td>407</td>\n    </tr>\n    <tr>\n      <th>Г–stersunds FK</th>\n      <td>136103</td>\n      <td>478</td>\n      <td>11030000</td>\n      <td>39000</td>\n      <td>944</td>\n      <td>805</td>\n      <td>856</td>\n      <td>1109</td>\n      <td>801</td>\n      <td>1066</td>\n      <td>...</td>\n      <td>847</td>\n      <td>1132</td>\n      <td>920</td>\n      <td>842</td>\n      <td>816</td>\n      <td>342</td>\n      <td>357</td>\n      <td>369</td>\n      <td>337</td>\n      <td>363</td>\n    </tr>\n    <tr>\n      <th>Г‡aykur Rizespor</th>\n      <td>119137</td>\n      <td>557</td>\n      <td>27515000</td>\n      <td>118000</td>\n      <td>1110</td>\n      <td>921</td>\n      <td>1137</td>\n      <td>1290</td>\n      <td>888</td>\n      <td>1233</td>\n      <td>...</td>\n      <td>1063</td>\n      <td>1200</td>\n      <td>1050</td>\n      <td>1155</td>\n      <td>1143</td>\n      <td>375</td>\n      <td>394</td>\n      <td>387</td>\n      <td>388</td>\n      <td>389</td>\n    </tr>\n    <tr>\n      <th>ЕљlД…sk WrocЕ‚aw</th>\n      <td>172358</td>\n      <td>628</td>\n      <td>9170000</td>\n      <td>50000</td>\n      <td>1058</td>\n      <td>1054</td>\n      <td>1289</td>\n      <td>1313</td>\n      <td>988</td>\n      <td>1238</td>\n      <td>...</td>\n      <td>1150</td>\n      <td>1314</td>\n      <td>1047</td>\n      <td>1161</td>\n      <td>1129</td>\n      <td>408</td>\n      <td>403</td>\n      <td>367</td>\n      <td>394</td>\n      <td>403</td>\n    </tr>\n  </tbody>\n</table>\n<p>650 rows × 38 columns</p>\n</div>"
     },
     "metadata": {}
    }
   ],
   "source": [
    "grouped_df = football.groupby(['Club']).sum()\n",
    "display(grouped_df)"
   ]
  },
  {
   "cell_type": "code",
   "execution_count": 80,
   "metadata": {},
   "outputs": [
    {
     "output_type": "execute_result",
     "data": {
      "text/plain": [
       "158000"
      ]
     },
     "metadata": {},
     "execution_count": 80
    }
   ],
   "source": [
    "grouped_df.loc['Ajax']['Wage']\n"
   ]
  },
  {
   "cell_type": "code",
   "execution_count": 84,
   "metadata": {},
   "outputs": [
    {
     "output_type": "display_data",
     "data": {
      "text/plain": "Club\nReal Madrid          4138000\nFC Barcelona         3967000\nManchester City      3097000\nManchester United    2357000\nJuventus             2335000\nName: Wage, dtype: int64"
     },
     "metadata": {}
    }
   ],
   "source": [
    "grouped_df = football.groupby(['Club'])['Wage'].sum().sort_values(ascending=False)\n",
    "display(grouped_df.head(5))"
   ]
  },
  {
   "cell_type": "code",
   "execution_count": 86,
   "metadata": {},
   "outputs": [
    {
     "output_type": "display_data",
     "data": {
      "text/plain": "Position\nST     11873000\nGK      8784000\nCB      7476000\nCM      6194000\nLB      6096000\nCAM     5500000\nLM      5440000\nRM      5098000\nRB      5034000\nName: Wage, dtype: int64"
     },
     "metadata": {}
    }
   ],
   "source": [
    "grouped_df = football.groupby(['Position'])['Wage'].sum().sort_values(ascending=False)\n",
    "display(grouped_df[grouped_df>5000000])"
   ]
  },
  {
   "cell_type": "code",
   "execution_count": 87,
   "metadata": {},
   "outputs": [
    {
     "output_type": "execute_result",
     "data": {
      "text/plain": [
       "                     Wage        Age  ShotPower\n",
       "Nationality                                    \n",
       "Afghanistan   1250.000000  22.500000  53.750000\n",
       "Albania       5931.034483  23.689655  54.551724\n",
       "Algeria      15810.810811  27.027027  56.567568\n",
       "Andorra       1000.000000  28.000000  58.000000\n",
       "Angola        7100.000000  24.700000  63.700000\n",
       "...                   ...        ...        ...\n",
       "Uzbekistan    9000.000000  29.500000  71.500000\n",
       "Venezuela     6611.111111  23.638889  57.222222\n",
       "Wales         9529.411765  24.754902  48.558824\n",
       "Zambia        2833.333333  21.833333  66.833333\n",
       "Zimbabwe      5000.000000  26.555556  62.888889\n",
       "\n",
       "[156 rows x 3 columns]"
      ],
      "text/html": "<div>\n<style scoped>\n    .dataframe tbody tr th:only-of-type {\n        vertical-align: middle;\n    }\n\n    .dataframe tbody tr th {\n        vertical-align: top;\n    }\n\n    .dataframe thead th {\n        text-align: right;\n    }\n</style>\n<table border=\"1\" class=\"dataframe\">\n  <thead>\n    <tr style=\"text-align: right;\">\n      <th></th>\n      <th>Wage</th>\n      <th>Age</th>\n      <th>ShotPower</th>\n    </tr>\n    <tr>\n      <th>Nationality</th>\n      <th></th>\n      <th></th>\n      <th></th>\n    </tr>\n  </thead>\n  <tbody>\n    <tr>\n      <th>Afghanistan</th>\n      <td>1250.000000</td>\n      <td>22.500000</td>\n      <td>53.750000</td>\n    </tr>\n    <tr>\n      <th>Albania</th>\n      <td>5931.034483</td>\n      <td>23.689655</td>\n      <td>54.551724</td>\n    </tr>\n    <tr>\n      <th>Algeria</th>\n      <td>15810.810811</td>\n      <td>27.027027</td>\n      <td>56.567568</td>\n    </tr>\n    <tr>\n      <th>Andorra</th>\n      <td>1000.000000</td>\n      <td>28.000000</td>\n      <td>58.000000</td>\n    </tr>\n    <tr>\n      <th>Angola</th>\n      <td>7100.000000</td>\n      <td>24.700000</td>\n      <td>63.700000</td>\n    </tr>\n    <tr>\n      <th>...</th>\n      <td>...</td>\n      <td>...</td>\n      <td>...</td>\n    </tr>\n    <tr>\n      <th>Uzbekistan</th>\n      <td>9000.000000</td>\n      <td>29.500000</td>\n      <td>71.500000</td>\n    </tr>\n    <tr>\n      <th>Venezuela</th>\n      <td>6611.111111</td>\n      <td>23.638889</td>\n      <td>57.222222</td>\n    </tr>\n    <tr>\n      <th>Wales</th>\n      <td>9529.411765</td>\n      <td>24.754902</td>\n      <td>48.558824</td>\n    </tr>\n    <tr>\n      <th>Zambia</th>\n      <td>2833.333333</td>\n      <td>21.833333</td>\n      <td>66.833333</td>\n    </tr>\n    <tr>\n      <th>Zimbabwe</th>\n      <td>5000.000000</td>\n      <td>26.555556</td>\n      <td>62.888889</td>\n    </tr>\n  </tbody>\n</table>\n<p>156 rows × 3 columns</p>\n</div>"
     },
     "metadata": {},
     "execution_count": 87
    }
   ],
   "source": [
    "football.groupby(['Nationality'])[['Wage','Age','ShotPower']].mean()"
   ]
  },
  {
   "cell_type": "code",
   "execution_count": 88,
   "metadata": {},
   "outputs": [
    {
     "output_type": "execute_result",
     "data": {
      "text/plain": [
       "                            Wage        Age  ShotPower\n",
       "Nationality                                           \n",
       "Dominican Republic  71000.000000  23.000000  75.500000\n",
       "Egypt               35545.454545  25.818182  59.363636\n",
       "Gabon               28900.000000  26.400000  56.900000\n",
       "Croatia             26722.222222  24.819444  54.305556\n",
       "Equatorial Guinea   25666.666667  28.000000  55.333333\n",
       "Belgium             20024.390244  24.030488  56.390244\n",
       "Ecuador             18333.333333  24.619048  60.666667\n",
       "Uruguay             17590.361446  26.771084  56.192771\n",
       "Brazil              17371.158392  27.898345  58.203310\n",
       "Algeria             15810.810811  27.027027  56.567568"
      ],
      "text/html": "<div>\n<style scoped>\n    .dataframe tbody tr th:only-of-type {\n        vertical-align: middle;\n    }\n\n    .dataframe tbody tr th {\n        vertical-align: top;\n    }\n\n    .dataframe thead th {\n        text-align: right;\n    }\n</style>\n<table border=\"1\" class=\"dataframe\">\n  <thead>\n    <tr style=\"text-align: right;\">\n      <th></th>\n      <th>Wage</th>\n      <th>Age</th>\n      <th>ShotPower</th>\n    </tr>\n    <tr>\n      <th>Nationality</th>\n      <th></th>\n      <th></th>\n      <th></th>\n    </tr>\n  </thead>\n  <tbody>\n    <tr>\n      <th>Dominican Republic</th>\n      <td>71000.000000</td>\n      <td>23.000000</td>\n      <td>75.500000</td>\n    </tr>\n    <tr>\n      <th>Egypt</th>\n      <td>35545.454545</td>\n      <td>25.818182</td>\n      <td>59.363636</td>\n    </tr>\n    <tr>\n      <th>Gabon</th>\n      <td>28900.000000</td>\n      <td>26.400000</td>\n      <td>56.900000</td>\n    </tr>\n    <tr>\n      <th>Croatia</th>\n      <td>26722.222222</td>\n      <td>24.819444</td>\n      <td>54.305556</td>\n    </tr>\n    <tr>\n      <th>Equatorial Guinea</th>\n      <td>25666.666667</td>\n      <td>28.000000</td>\n      <td>55.333333</td>\n    </tr>\n    <tr>\n      <th>Belgium</th>\n      <td>20024.390244</td>\n      <td>24.030488</td>\n      <td>56.390244</td>\n    </tr>\n    <tr>\n      <th>Ecuador</th>\n      <td>18333.333333</td>\n      <td>24.619048</td>\n      <td>60.666667</td>\n    </tr>\n    <tr>\n      <th>Uruguay</th>\n      <td>17590.361446</td>\n      <td>26.771084</td>\n      <td>56.192771</td>\n    </tr>\n    <tr>\n      <th>Brazil</th>\n      <td>17371.158392</td>\n      <td>27.898345</td>\n      <td>58.203310</td>\n    </tr>\n    <tr>\n      <th>Algeria</th>\n      <td>15810.810811</td>\n      <td>27.027027</td>\n      <td>56.567568</td>\n    </tr>\n  </tbody>\n</table>\n</div>"
     },
     "metadata": {},
     "execution_count": 88
    }
   ],
   "source": [
    "football.groupby(['Nationality'])[['Wage','Age','ShotPower']].mean().sort_values(['Wage'],ascending=False).head(10)"
   ]
  },
  {
   "cell_type": "code",
   "execution_count": 90,
   "metadata": {},
   "outputs": [
    {
     "output_type": "execute_result",
     "data": {
      "text/plain": [
       "                   Wage         Value\n",
       "Position                             \n",
       "LF         75125.000000  2.736250e+07\n",
       "RF        119000.000000  2.636583e+07\n",
       "LAM        61000.000000  1.324583e+07\n",
       "RAM        11800.000000  8.345000e+06\n",
       "LS         15421.487603  5.848430e+06\n",
       "LCM        13497.854077  4.318090e+06\n",
       "RCM        13504.166667  4.217604e+06\n",
       "RS         13482.456140  3.645833e+06\n",
       "LW         12169.421488  3.603099e+06\n",
       "RW         13822.784810  3.495738e+06"
      ],
      "text/html": "<div>\n<style scoped>\n    .dataframe tbody tr th:only-of-type {\n        vertical-align: middle;\n    }\n\n    .dataframe tbody tr th {\n        vertical-align: top;\n    }\n\n    .dataframe thead th {\n        text-align: right;\n    }\n</style>\n<table border=\"1\" class=\"dataframe\">\n  <thead>\n    <tr style=\"text-align: right;\">\n      <th></th>\n      <th>Wage</th>\n      <th>Value</th>\n    </tr>\n    <tr>\n      <th>Position</th>\n      <th></th>\n      <th></th>\n    </tr>\n  </thead>\n  <tbody>\n    <tr>\n      <th>LF</th>\n      <td>75125.000000</td>\n      <td>2.736250e+07</td>\n    </tr>\n    <tr>\n      <th>RF</th>\n      <td>119000.000000</td>\n      <td>2.636583e+07</td>\n    </tr>\n    <tr>\n      <th>LAM</th>\n      <td>61000.000000</td>\n      <td>1.324583e+07</td>\n    </tr>\n    <tr>\n      <th>RAM</th>\n      <td>11800.000000</td>\n      <td>8.345000e+06</td>\n    </tr>\n    <tr>\n      <th>LS</th>\n      <td>15421.487603</td>\n      <td>5.848430e+06</td>\n    </tr>\n    <tr>\n      <th>LCM</th>\n      <td>13497.854077</td>\n      <td>4.318090e+06</td>\n    </tr>\n    <tr>\n      <th>RCM</th>\n      <td>13504.166667</td>\n      <td>4.217604e+06</td>\n    </tr>\n    <tr>\n      <th>RS</th>\n      <td>13482.456140</td>\n      <td>3.645833e+06</td>\n    </tr>\n    <tr>\n      <th>LW</th>\n      <td>12169.421488</td>\n      <td>3.603099e+06</td>\n    </tr>\n    <tr>\n      <th>RW</th>\n      <td>13822.784810</td>\n      <td>3.495738e+06</td>\n    </tr>\n  </tbody>\n</table>\n</div>"
     },
     "metadata": {},
     "execution_count": 90
    }
   ],
   "source": [
    "football.groupby(['Position'])[['Wage','Value']].mean().sort_values(['Value'],ascending=False).head(10)"
   ]
  },
  {
   "cell_type": "code",
   "execution_count": 91,
   "metadata": {},
   "outputs": [
    {
     "output_type": "execute_result",
     "data": {
      "text/plain": [
       "             Club  Name\n",
       "Nationality            \n",
       "Afghanistan     4     4\n",
       "Albania        26    29\n",
       "Algeria        33    37\n",
       "Andorra         1     1\n",
       "Angola          9    10\n",
       "...           ...   ...\n",
       "Uzbekistan      2     2\n",
       "Venezuela      34    36\n",
       "Wales          56   101\n",
       "Zambia          5     6\n",
       "Zimbabwe        8     9\n",
       "\n",
       "[156 rows x 2 columns]"
      ],
      "text/html": "<div>\n<style scoped>\n    .dataframe tbody tr th:only-of-type {\n        vertical-align: middle;\n    }\n\n    .dataframe tbody tr th {\n        vertical-align: top;\n    }\n\n    .dataframe thead th {\n        text-align: right;\n    }\n</style>\n<table border=\"1\" class=\"dataframe\">\n  <thead>\n    <tr style=\"text-align: right;\">\n      <th></th>\n      <th>Club</th>\n      <th>Name</th>\n    </tr>\n    <tr>\n      <th>Nationality</th>\n      <th></th>\n      <th></th>\n    </tr>\n  </thead>\n  <tbody>\n    <tr>\n      <th>Afghanistan</th>\n      <td>4</td>\n      <td>4</td>\n    </tr>\n    <tr>\n      <th>Albania</th>\n      <td>26</td>\n      <td>29</td>\n    </tr>\n    <tr>\n      <th>Algeria</th>\n      <td>33</td>\n      <td>37</td>\n    </tr>\n    <tr>\n      <th>Andorra</th>\n      <td>1</td>\n      <td>1</td>\n    </tr>\n    <tr>\n      <th>Angola</th>\n      <td>9</td>\n      <td>10</td>\n    </tr>\n    <tr>\n      <th>...</th>\n      <td>...</td>\n      <td>...</td>\n    </tr>\n    <tr>\n      <th>Uzbekistan</th>\n      <td>2</td>\n      <td>2</td>\n    </tr>\n    <tr>\n      <th>Venezuela</th>\n      <td>34</td>\n      <td>36</td>\n    </tr>\n    <tr>\n      <th>Wales</th>\n      <td>56</td>\n      <td>101</td>\n    </tr>\n    <tr>\n      <th>Zambia</th>\n      <td>5</td>\n      <td>6</td>\n    </tr>\n    <tr>\n      <th>Zimbabwe</th>\n      <td>8</td>\n      <td>9</td>\n    </tr>\n  </tbody>\n</table>\n<p>156 rows × 2 columns</p>\n</div>"
     },
     "metadata": {},
     "execution_count": 91
    }
   ],
   "source": [
    "##### 9. Другие агрегирующие функции\n",
    "\n",
    "football.groupby(['Nationality'])[['Club','Name']].nunique()"
   ]
  },
  {
   "cell_type": "code",
   "execution_count": 92,
   "metadata": {},
   "outputs": [
    {
     "output_type": "execute_result",
     "data": {
      "text/plain": [
       "Club\n",
       " SSV Jahn Regensburg     24\n",
       "1. FC Heidenheim 1846    20\n",
       "1. FC Kaiserslautern     23\n",
       "1. FC KГ¶ln              10\n",
       "1. FC Magdeburg          21\n",
       "                         ..\n",
       "ZagЕ‚Д™bie Sosnowiec     25\n",
       "Г–rebro SK               26\n",
       "Г–stersunds FK           20\n",
       "Г‡aykur Rizespor         22\n",
       "ЕљlД…sk WrocЕ‚aw         24\n",
       "Name: Name, Length: 650, dtype: int64"
      ]
     },
     "metadata": {},
     "execution_count": 92
    }
   ],
   "source": [
    "football.groupby(['Club'])['Name'].count()"
   ]
  },
  {
   "cell_type": "code",
   "execution_count": 96,
   "metadata": {},
   "outputs": [
    {
     "output_type": "execute_result",
     "data": {
      "text/plain": [
       "Club\n",
       " SSV Jahn Regensburg     29\n",
       "1. FC Heidenheim 1846    22\n",
       "1. FC Kaiserslautern     29\n",
       "1. FC KГ¶ln              31\n",
       "1. FC Magdeburg          19\n",
       "                         ..\n",
       "ZagЕ‚Д™bie Sosnowiec     28\n",
       "Г–rebro SK               34\n",
       "Г–stersunds FK           32\n",
       "Г‡aykur Rizespor         39\n",
       "ЕљlД…sk WrocЕ‚aw         31\n",
       "Name: Balance, Length: 650, dtype: int64"
      ]
     },
     "metadata": {},
     "execution_count": 96
    }
   ],
   "source": [
    "football.groupby(['Club'])['Dribbling'].median()\n",
    "football.groupby(['Club'])['Strength'].max()\n",
    "football.groupby(['Club'])['Balance'].min()"
   ]
  },
  {
   "cell_type": "code",
   "execution_count": 106,
   "metadata": {},
   "outputs": [
    {
     "output_type": "execute_result",
     "data": {
      "text/plain": [
       "52"
      ]
     },
     "metadata": {},
     "execution_count": 106
    }
   ],
   "source": [
    "# Задание 1 (Part 9)\n",
    "fcl = football.groupby(['Club'])['Wage'].median() - football.groupby(['Club'])['Wage'].mean()\n",
    "len(fcl[fcl == 0])"
   ]
  },
  {
   "cell_type": "code",
   "execution_count": 135,
   "metadata": {},
   "outputs": [
    {
     "output_type": "execute_result",
     "data": {
      "text/plain": [
       "52"
      ]
     },
     "metadata": {},
     "execution_count": 135
    }
   ],
   "source": [
    "# Задание 1 (alternative version)\n",
    "fcl = football.groupby('Club')['Wage'].agg(['mean', 'median'])\n",
    "len(fcl[fcl['mean'] == fcl['median']])"
   ]
  },
  {
   "cell_type": "code",
   "execution_count": 136,
   "metadata": {},
   "outputs": [
    {
     "output_type": "execute_result",
     "data": {
      "text/plain": [
       "                      mean  median\n",
       "Club                              \n",
       "Cruzeiro           13000.0   13000\n",
       "GГ¶ztepe SK         7000.0    7000\n",
       "BrГёndby IF         6000.0    6000\n",
       "Sunderland          4000.0    4000\n",
       "CD Feirense         4000.0    4000\n",
       "1. FC Magdeburg     4000.0    4000\n",
       "Northampton Town    2500.0    2500\n",
       "Stade Brestois 29   2000.0    2000\n",
       "Jeonnam Dragons     2000.0    2000\n",
       "Pohang Steelers     2000.0    2000"
      ],
      "text/html": "<div>\n<style scoped>\n    .dataframe tbody tr th:only-of-type {\n        vertical-align: middle;\n    }\n\n    .dataframe tbody tr th {\n        vertical-align: top;\n    }\n\n    .dataframe thead th {\n        text-align: right;\n    }\n</style>\n<table border=\"1\" class=\"dataframe\">\n  <thead>\n    <tr style=\"text-align: right;\">\n      <th></th>\n      <th>mean</th>\n      <th>median</th>\n    </tr>\n    <tr>\n      <th>Club</th>\n      <th></th>\n      <th></th>\n    </tr>\n  </thead>\n  <tbody>\n    <tr>\n      <th>Cruzeiro</th>\n      <td>13000.0</td>\n      <td>13000</td>\n    </tr>\n    <tr>\n      <th>GГ¶ztepe SK</th>\n      <td>7000.0</td>\n      <td>7000</td>\n    </tr>\n    <tr>\n      <th>BrГёndby IF</th>\n      <td>6000.0</td>\n      <td>6000</td>\n    </tr>\n    <tr>\n      <th>Sunderland</th>\n      <td>4000.0</td>\n      <td>4000</td>\n    </tr>\n    <tr>\n      <th>CD Feirense</th>\n      <td>4000.0</td>\n      <td>4000</td>\n    </tr>\n    <tr>\n      <th>1. FC Magdeburg</th>\n      <td>4000.0</td>\n      <td>4000</td>\n    </tr>\n    <tr>\n      <th>Northampton Town</th>\n      <td>2500.0</td>\n      <td>2500</td>\n    </tr>\n    <tr>\n      <th>Stade Brestois 29</th>\n      <td>2000.0</td>\n      <td>2000</td>\n    </tr>\n    <tr>\n      <th>Jeonnam Dragons</th>\n      <td>2000.0</td>\n      <td>2000</td>\n    </tr>\n    <tr>\n      <th>Pohang Steelers</th>\n      <td>2000.0</td>\n      <td>2000</td>\n    </tr>\n  </tbody>\n</table>\n</div>"
     },
     "metadata": {},
     "execution_count": 136
    }
   ],
   "source": [
    "# Задание 2.\n",
    "fcl[fcl['mean'] == fcl['median']].sort_values(['median'],ascending=False).head(10)"
   ]
  },
  {
   "cell_type": "code",
   "execution_count": 143,
   "metadata": {},
   "outputs": [
    {
     "output_type": "execute_result",
     "data": {
      "text/plain": [
       "        Club     Wage\n",
       "134  Chelsea  2035000"
      ],
      "text/html": "<div>\n<style scoped>\n    .dataframe tbody tr th:only-of-type {\n        vertical-align: middle;\n    }\n\n    .dataframe tbody tr th {\n        vertical-align: top;\n    }\n\n    .dataframe thead th {\n        text-align: right;\n    }\n</style>\n<table border=\"1\" class=\"dataframe\">\n  <thead>\n    <tr style=\"text-align: right;\">\n      <th></th>\n      <th>Club</th>\n      <th>Wage</th>\n    </tr>\n  </thead>\n  <tbody>\n    <tr>\n      <th>134</th>\n      <td>Chelsea</td>\n      <td>2035000</td>\n    </tr>\n  </tbody>\n</table>\n</div>"
     },
     "metadata": {},
     "execution_count": 143
    }
   ],
   "source": [
    "##### 10. Задачи\n",
    "# Задача 1.\n",
    "fcl = football.groupby('Club')['Wage'].sum()\n",
    "s_df = fcl.reset_index()\n",
    "s_df[s_df['Club']=='Chelsea']"
   ]
  },
  {
   "cell_type": "code",
   "execution_count": 157,
   "metadata": {},
   "outputs": [
    {
     "output_type": "execute_result",
     "data": {
      "text/plain": [
       "   Age   min    max\n",
       "4   20  1000  54000"
      ],
      "text/html": "<div>\n<style scoped>\n    .dataframe tbody tr th:only-of-type {\n        vertical-align: middle;\n    }\n\n    .dataframe tbody tr th {\n        vertical-align: top;\n    }\n\n    .dataframe thead th {\n        text-align: right;\n    }\n</style>\n<table border=\"1\" class=\"dataframe\">\n  <thead>\n    <tr style=\"text-align: right;\">\n      <th></th>\n      <th>Age</th>\n      <th>min</th>\n      <th>max</th>\n    </tr>\n  </thead>\n  <tbody>\n    <tr>\n      <th>4</th>\n      <td>20</td>\n      <td>1000</td>\n      <td>54000</td>\n    </tr>\n  </tbody>\n</table>\n</div>"
     },
     "metadata": {},
     "execution_count": 157
    }
   ],
   "source": [
    "# Задача 2.\n",
    "fcl = football[(football.Nationality=='Argentina')]\n",
    "fcl2 = fcl.groupby('Age')['Wage'].agg(['min', 'max'])\n",
    "s_df = fcl2.reset_index()\n",
    "s_df[s_df['Age'] == 20]"
   ]
  },
  {
   "cell_type": "code",
   "execution_count": 160,
   "metadata": {},
   "outputs": [
    {
     "output_type": "execute_result",
     "data": {
      "text/plain": [
       "14    300000\n",
       "Name: max, dtype: int64"
      ]
     },
     "metadata": {},
     "execution_count": 160
    }
   ],
   "source": [
    "# Задача 3.\n",
    "s_df[s_df['Age'] == 30]['max']"
   ]
  },
  {
   "cell_type": "code",
   "execution_count": 161,
   "metadata": {},
   "outputs": [
    {
     "output_type": "execute_result",
     "data": {
      "text/plain": [
       "14    1000\n",
       "Name: min, dtype: int64"
      ]
     },
     "metadata": {},
     "execution_count": 161
    }
   ],
   "source": [
    "# Задача 4.\n",
    "s_df[s_df['Age'] == 30]['min']"
   ]
  },
  {
   "cell_type": "code",
   "execution_count": 164,
   "metadata": {},
   "outputs": [
    {
     "output_type": "stream",
     "name": "stdout",
     "text": [
      "59;95\n"
     ]
    }
   ],
   "source": [
    "# Задача 5.\n",
    "fcl = football[(football.Nationality=='Argentina') & (football.Club=='FC Barcelona')]\n",
    "print(fcl['Strength'].max(), fcl['Balance'].max(), sep=';')\n"
   ]
  },
  {
   "cell_type": "code",
   "execution_count": 1,
   "metadata": {},
   "outputs": [],
   "source": [
    "##### 12. Функция pivot_table"
   ]
  },
  {
   "cell_type": "code",
   "execution_count": 7,
   "metadata": {},
   "outputs": [
    {
     "output_type": "display_data",
     "data": {
      "text/plain": "                           Wage                                           \\\nClub               FC Barcelona   Juventus Manchester United Real Madrid   \nNationality                                                                \nArgentina              565000.0   205000.0          206000.0         NaN   \nBelgium                110000.0        NaN          230000.0    240000.0   \nBosnia Herzegovina          NaN   180000.0               NaN         NaN   \nBrazil                 465000.0   335000.0           91000.0    570000.0   \nChile                  205000.0        NaN          215000.0         NaN   \nCosta Rica                  NaN        NaN               NaN    195000.0   \nCroatia                260000.0   160000.0               NaN    420000.0   \nDominican Republic          NaN        NaN               NaN    140000.0   \nEcuador                     NaN        NaN          120000.0         NaN   \nEngland                     NaN        NaN          478000.0         NaN   \nFrance                 495000.0   145000.0          375000.0    459000.0   \nGermany                240000.0   160000.0               NaN    355000.0   \nItaly                       NaN   460000.0           88000.0         NaN   \nIvory Coast                 NaN        NaN          105000.0         NaN   \nMorocco                     NaN   160000.0               NaN         NaN   \nNetherlands            135000.0        NaN               NaN         NaN   \nPoland                      NaN   125000.0               NaN         NaN   \nPortugal               125000.0   405000.0               NaN         NaN   \nScotland                    NaN        NaN           11000.0         NaN   \nSerbia                      NaN        NaN          165000.0         NaN   \nSpain                  912000.0        NaN          260000.0   1404000.0   \nUruguay                455000.0        NaN               NaN         NaN   \nWales                       NaN        NaN           13000.0    355000.0   \nAll                   3967000.0  2335000.0         2357000.0   4138000.0   \n\n                              \nClub                     All  \nNationality                   \nArgentina             976000  \nBelgium               580000  \nBosnia Herzegovina    180000  \nBrazil               1461000  \nChile                 420000  \nCosta Rica            195000  \nCroatia               840000  \nDominican Republic    140000  \nEcuador               120000  \nEngland               478000  \nFrance               1474000  \nGermany               755000  \nItaly                 548000  \nIvory Coast           105000  \nMorocco               160000  \nNetherlands           135000  \nPoland                125000  \nPortugal              530000  \nScotland               11000  \nSerbia                165000  \nSpain                2576000  \nUruguay               455000  \nWales                 368000  \nAll                 12797000  ",
      "text/html": "<div>\n<style scoped>\n    .dataframe tbody tr th:only-of-type {\n        vertical-align: middle;\n    }\n\n    .dataframe tbody tr th {\n        vertical-align: top;\n    }\n\n    .dataframe thead tr th {\n        text-align: left;\n    }\n\n    .dataframe thead tr:last-of-type th {\n        text-align: right;\n    }\n</style>\n<table border=\"1\" class=\"dataframe\">\n  <thead>\n    <tr>\n      <th></th>\n      <th colspan=\"5\" halign=\"left\">Wage</th>\n    </tr>\n    <tr>\n      <th>Club</th>\n      <th>FC Barcelona</th>\n      <th>Juventus</th>\n      <th>Manchester United</th>\n      <th>Real Madrid</th>\n      <th>All</th>\n    </tr>\n    <tr>\n      <th>Nationality</th>\n      <th></th>\n      <th></th>\n      <th></th>\n      <th></th>\n      <th></th>\n    </tr>\n  </thead>\n  <tbody>\n    <tr>\n      <th>Argentina</th>\n      <td>565000.0</td>\n      <td>205000.0</td>\n      <td>206000.0</td>\n      <td>NaN</td>\n      <td>976000</td>\n    </tr>\n    <tr>\n      <th>Belgium</th>\n      <td>110000.0</td>\n      <td>NaN</td>\n      <td>230000.0</td>\n      <td>240000.0</td>\n      <td>580000</td>\n    </tr>\n    <tr>\n      <th>Bosnia Herzegovina</th>\n      <td>NaN</td>\n      <td>180000.0</td>\n      <td>NaN</td>\n      <td>NaN</td>\n      <td>180000</td>\n    </tr>\n    <tr>\n      <th>Brazil</th>\n      <td>465000.0</td>\n      <td>335000.0</td>\n      <td>91000.0</td>\n      <td>570000.0</td>\n      <td>1461000</td>\n    </tr>\n    <tr>\n      <th>Chile</th>\n      <td>205000.0</td>\n      <td>NaN</td>\n      <td>215000.0</td>\n      <td>NaN</td>\n      <td>420000</td>\n    </tr>\n    <tr>\n      <th>Costa Rica</th>\n      <td>NaN</td>\n      <td>NaN</td>\n      <td>NaN</td>\n      <td>195000.0</td>\n      <td>195000</td>\n    </tr>\n    <tr>\n      <th>Croatia</th>\n      <td>260000.0</td>\n      <td>160000.0</td>\n      <td>NaN</td>\n      <td>420000.0</td>\n      <td>840000</td>\n    </tr>\n    <tr>\n      <th>Dominican Republic</th>\n      <td>NaN</td>\n      <td>NaN</td>\n      <td>NaN</td>\n      <td>140000.0</td>\n      <td>140000</td>\n    </tr>\n    <tr>\n      <th>Ecuador</th>\n      <td>NaN</td>\n      <td>NaN</td>\n      <td>120000.0</td>\n      <td>NaN</td>\n      <td>120000</td>\n    </tr>\n    <tr>\n      <th>England</th>\n      <td>NaN</td>\n      <td>NaN</td>\n      <td>478000.0</td>\n      <td>NaN</td>\n      <td>478000</td>\n    </tr>\n    <tr>\n      <th>France</th>\n      <td>495000.0</td>\n      <td>145000.0</td>\n      <td>375000.0</td>\n      <td>459000.0</td>\n      <td>1474000</td>\n    </tr>\n    <tr>\n      <th>Germany</th>\n      <td>240000.0</td>\n      <td>160000.0</td>\n      <td>NaN</td>\n      <td>355000.0</td>\n      <td>755000</td>\n    </tr>\n    <tr>\n      <th>Italy</th>\n      <td>NaN</td>\n      <td>460000.0</td>\n      <td>88000.0</td>\n      <td>NaN</td>\n      <td>548000</td>\n    </tr>\n    <tr>\n      <th>Ivory Coast</th>\n      <td>NaN</td>\n      <td>NaN</td>\n      <td>105000.0</td>\n      <td>NaN</td>\n      <td>105000</td>\n    </tr>\n    <tr>\n      <th>Morocco</th>\n      <td>NaN</td>\n      <td>160000.0</td>\n      <td>NaN</td>\n      <td>NaN</td>\n      <td>160000</td>\n    </tr>\n    <tr>\n      <th>Netherlands</th>\n      <td>135000.0</td>\n      <td>NaN</td>\n      <td>NaN</td>\n      <td>NaN</td>\n      <td>135000</td>\n    </tr>\n    <tr>\n      <th>Poland</th>\n      <td>NaN</td>\n      <td>125000.0</td>\n      <td>NaN</td>\n      <td>NaN</td>\n      <td>125000</td>\n    </tr>\n    <tr>\n      <th>Portugal</th>\n      <td>125000.0</td>\n      <td>405000.0</td>\n      <td>NaN</td>\n      <td>NaN</td>\n      <td>530000</td>\n    </tr>\n    <tr>\n      <th>Scotland</th>\n      <td>NaN</td>\n      <td>NaN</td>\n      <td>11000.0</td>\n      <td>NaN</td>\n      <td>11000</td>\n    </tr>\n    <tr>\n      <th>Serbia</th>\n      <td>NaN</td>\n      <td>NaN</td>\n      <td>165000.0</td>\n      <td>NaN</td>\n      <td>165000</td>\n    </tr>\n    <tr>\n      <th>Spain</th>\n      <td>912000.0</td>\n      <td>NaN</td>\n      <td>260000.0</td>\n      <td>1404000.0</td>\n      <td>2576000</td>\n    </tr>\n    <tr>\n      <th>Uruguay</th>\n      <td>455000.0</td>\n      <td>NaN</td>\n      <td>NaN</td>\n      <td>NaN</td>\n      <td>455000</td>\n    </tr>\n    <tr>\n      <th>Wales</th>\n      <td>NaN</td>\n      <td>NaN</td>\n      <td>13000.0</td>\n      <td>355000.0</td>\n      <td>368000</td>\n    </tr>\n    <tr>\n      <th>All</th>\n      <td>3967000.0</td>\n      <td>2335000.0</td>\n      <td>2357000.0</td>\n      <td>4138000.0</td>\n      <td>12797000</td>\n    </tr>\n  </tbody>\n</table>\n</div>"
     },
     "metadata": {}
    }
   ],
   "source": [
    "pivot = football.loc[football['Club'].isin(['FC Barcelona','Real Madrid','Juventus','Manchester United'])].pivot_table(values=['Wage'],\n",
    "index=['Nationality'],\n",
    "columns=['Club'],\n",
    "aggfunc='sum',\n",
    "margins=True)  # margins=True for Totals of rows and columns\n",
    "display(pivot)"
   ]
  },
  {
   "cell_type": "code",
   "execution_count": 17,
   "metadata": {},
   "outputs": [
    {
     "output_type": "execute_result",
     "data": {
      "text/plain": [
       "125000.0"
      ]
     },
     "metadata": {},
     "execution_count": 17
    }
   ],
   "source": [
    "# Задание 1.\n",
    "\n",
    "df2 = football.pivot_table(columns = 'Position', index = 'Club', values = 'Wage', aggfunc = 'max')\n",
    "df2.loc['Manchester City']['GK']"
   ]
  },
  {
   "cell_type": "code",
   "execution_count": 18,
   "metadata": {},
   "outputs": [],
   "source": [
    "##### 13. Замена отсутствующих значений и еще примеры сводных таблиц"
   ]
  },
  {
   "cell_type": "code",
   "execution_count": 19,
   "metadata": {},
   "outputs": [
    {
     "output_type": "display_data",
     "data": {
      "text/plain": "                           Wage                                         \\\nClub               FC Barcelona Juventus Manchester United Real Madrid   \nNationality                                                              \nArgentina                565000   205000            206000           0   \nBelgium                  110000        0            230000      240000   \nBosnia Herzegovina            0   180000                 0           0   \nBrazil                   465000   335000             91000      570000   \nChile                    205000        0            215000           0   \nCosta Rica                    0        0                 0      195000   \nCroatia                  260000   160000                 0      420000   \nDominican Republic            0        0                 0      140000   \nEcuador                       0        0            120000           0   \nEngland                       0        0            478000           0   \nFrance                   495000   145000            375000      459000   \nGermany                  240000   160000                 0      355000   \nItaly                         0   460000             88000           0   \nIvory Coast                   0        0            105000           0   \nMorocco                       0   160000                 0           0   \nNetherlands              135000        0                 0           0   \nPoland                        0   125000                 0           0   \nPortugal                 125000   405000                 0           0   \nScotland                      0        0             11000           0   \nSerbia                        0        0            165000           0   \nSpain                    912000        0            260000     1404000   \nUruguay                  455000        0                 0           0   \nWales                         0        0             13000      355000   \nAll                     3967000  2335000           2357000     4138000   \n\n                              \nClub                     All  \nNationality                   \nArgentina             976000  \nBelgium               580000  \nBosnia Herzegovina    180000  \nBrazil               1461000  \nChile                 420000  \nCosta Rica            195000  \nCroatia               840000  \nDominican Republic    140000  \nEcuador               120000  \nEngland               478000  \nFrance               1474000  \nGermany               755000  \nItaly                 548000  \nIvory Coast           105000  \nMorocco               160000  \nNetherlands           135000  \nPoland                125000  \nPortugal              530000  \nScotland               11000  \nSerbia                165000  \nSpain                2576000  \nUruguay               455000  \nWales                 368000  \nAll                 12797000  ",
      "text/html": "<div>\n<style scoped>\n    .dataframe tbody tr th:only-of-type {\n        vertical-align: middle;\n    }\n\n    .dataframe tbody tr th {\n        vertical-align: top;\n    }\n\n    .dataframe thead tr th {\n        text-align: left;\n    }\n\n    .dataframe thead tr:last-of-type th {\n        text-align: right;\n    }\n</style>\n<table border=\"1\" class=\"dataframe\">\n  <thead>\n    <tr>\n      <th></th>\n      <th colspan=\"5\" halign=\"left\">Wage</th>\n    </tr>\n    <tr>\n      <th>Club</th>\n      <th>FC Barcelona</th>\n      <th>Juventus</th>\n      <th>Manchester United</th>\n      <th>Real Madrid</th>\n      <th>All</th>\n    </tr>\n    <tr>\n      <th>Nationality</th>\n      <th></th>\n      <th></th>\n      <th></th>\n      <th></th>\n      <th></th>\n    </tr>\n  </thead>\n  <tbody>\n    <tr>\n      <th>Argentina</th>\n      <td>565000</td>\n      <td>205000</td>\n      <td>206000</td>\n      <td>0</td>\n      <td>976000</td>\n    </tr>\n    <tr>\n      <th>Belgium</th>\n      <td>110000</td>\n      <td>0</td>\n      <td>230000</td>\n      <td>240000</td>\n      <td>580000</td>\n    </tr>\n    <tr>\n      <th>Bosnia Herzegovina</th>\n      <td>0</td>\n      <td>180000</td>\n      <td>0</td>\n      <td>0</td>\n      <td>180000</td>\n    </tr>\n    <tr>\n      <th>Brazil</th>\n      <td>465000</td>\n      <td>335000</td>\n      <td>91000</td>\n      <td>570000</td>\n      <td>1461000</td>\n    </tr>\n    <tr>\n      <th>Chile</th>\n      <td>205000</td>\n      <td>0</td>\n      <td>215000</td>\n      <td>0</td>\n      <td>420000</td>\n    </tr>\n    <tr>\n      <th>Costa Rica</th>\n      <td>0</td>\n      <td>0</td>\n      <td>0</td>\n      <td>195000</td>\n      <td>195000</td>\n    </tr>\n    <tr>\n      <th>Croatia</th>\n      <td>260000</td>\n      <td>160000</td>\n      <td>0</td>\n      <td>420000</td>\n      <td>840000</td>\n    </tr>\n    <tr>\n      <th>Dominican Republic</th>\n      <td>0</td>\n      <td>0</td>\n      <td>0</td>\n      <td>140000</td>\n      <td>140000</td>\n    </tr>\n    <tr>\n      <th>Ecuador</th>\n      <td>0</td>\n      <td>0</td>\n      <td>120000</td>\n      <td>0</td>\n      <td>120000</td>\n    </tr>\n    <tr>\n      <th>England</th>\n      <td>0</td>\n      <td>0</td>\n      <td>478000</td>\n      <td>0</td>\n      <td>478000</td>\n    </tr>\n    <tr>\n      <th>France</th>\n      <td>495000</td>\n      <td>145000</td>\n      <td>375000</td>\n      <td>459000</td>\n      <td>1474000</td>\n    </tr>\n    <tr>\n      <th>Germany</th>\n      <td>240000</td>\n      <td>160000</td>\n      <td>0</td>\n      <td>355000</td>\n      <td>755000</td>\n    </tr>\n    <tr>\n      <th>Italy</th>\n      <td>0</td>\n      <td>460000</td>\n      <td>88000</td>\n      <td>0</td>\n      <td>548000</td>\n    </tr>\n    <tr>\n      <th>Ivory Coast</th>\n      <td>0</td>\n      <td>0</td>\n      <td>105000</td>\n      <td>0</td>\n      <td>105000</td>\n    </tr>\n    <tr>\n      <th>Morocco</th>\n      <td>0</td>\n      <td>160000</td>\n      <td>0</td>\n      <td>0</td>\n      <td>160000</td>\n    </tr>\n    <tr>\n      <th>Netherlands</th>\n      <td>135000</td>\n      <td>0</td>\n      <td>0</td>\n      <td>0</td>\n      <td>135000</td>\n    </tr>\n    <tr>\n      <th>Poland</th>\n      <td>0</td>\n      <td>125000</td>\n      <td>0</td>\n      <td>0</td>\n      <td>125000</td>\n    </tr>\n    <tr>\n      <th>Portugal</th>\n      <td>125000</td>\n      <td>405000</td>\n      <td>0</td>\n      <td>0</td>\n      <td>530000</td>\n    </tr>\n    <tr>\n      <th>Scotland</th>\n      <td>0</td>\n      <td>0</td>\n      <td>11000</td>\n      <td>0</td>\n      <td>11000</td>\n    </tr>\n    <tr>\n      <th>Serbia</th>\n      <td>0</td>\n      <td>0</td>\n      <td>165000</td>\n      <td>0</td>\n      <td>165000</td>\n    </tr>\n    <tr>\n      <th>Spain</th>\n      <td>912000</td>\n      <td>0</td>\n      <td>260000</td>\n      <td>1404000</td>\n      <td>2576000</td>\n    </tr>\n    <tr>\n      <th>Uruguay</th>\n      <td>455000</td>\n      <td>0</td>\n      <td>0</td>\n      <td>0</td>\n      <td>455000</td>\n    </tr>\n    <tr>\n      <th>Wales</th>\n      <td>0</td>\n      <td>0</td>\n      <td>13000</td>\n      <td>355000</td>\n      <td>368000</td>\n    </tr>\n    <tr>\n      <th>All</th>\n      <td>3967000</td>\n      <td>2335000</td>\n      <td>2357000</td>\n      <td>4138000</td>\n      <td>12797000</td>\n    </tr>\n  </tbody>\n</table>\n</div>"
     },
     "metadata": {}
    }
   ],
   "source": [
    "pivot = football.loc[football['Club'].isin(['FC Barcelona','Real Madrid','Juventus','Manchester United'])].pivot_table(values=['Wage'],\n",
    "index=['Nationality'],\n",
    "columns=['Club'],\n",
    "aggfunc='sum',\n",
    "margins=True,\n",
    "fill_value=0)   # replace NaN with 0\n",
    "display(pivot)"
   ]
  },
  {
   "cell_type": "code",
   "execution_count": 28,
   "metadata": {},
   "outputs": [
    {
     "output_type": "execute_result",
     "data": {
      "text/plain": [
       "2.525"
      ]
     },
     "metadata": {},
     "execution_count": 28
    }
   ],
   "source": [
    "# Задание 1.\n",
    "\n",
    "df2 = football.pivot_table(columns = 'Position', index = 'Club', values = 'Name', aggfunc = 'count', fill_value=0)\n",
    "round(df2['GK'].mean(), 3)\n",
    "#display(df2)"
   ]
  },
  {
   "cell_type": "code",
   "execution_count": 32,
   "metadata": {},
   "outputs": [
    {
     "output_type": "execute_result",
     "data": {
      "text/plain": [
       "1    211\n",
       "2    149\n",
       "0    136\n",
       "3     89\n",
       "4     39\n",
       "5     21\n",
       "6      5\n",
       "Name: CM, dtype: int64"
      ]
     },
     "metadata": {},
     "execution_count": 32
    }
   ],
   "source": [
    "# Задание 2.\n",
    "\n",
    "df2['CM'].value_counts()"
   ]
  },
  {
   "cell_type": "code",
   "execution_count": 33,
   "metadata": {},
   "outputs": [],
   "source": [
    "##### 14. Задачи"
   ]
  },
  {
   "cell_type": "code",
   "execution_count": 35,
   "metadata": {},
   "outputs": [
    {
     "output_type": "execute_result",
     "data": {
      "text/plain": [
       "61000"
      ]
     },
     "metadata": {},
     "execution_count": 35
    }
   ],
   "source": [
    "# Задача 1.\n",
    "\n",
    "df2 = football.pivot_table(values='Wage', index='Nationality', columns='Club',aggfunc='sum',fill_value=0)\n",
    "#display(df2) \n",
    "df2.loc['Russia']['AS Monaco']"
   ]
  },
  {
   "cell_type": "code",
   "execution_count": 43,
   "metadata": {},
   "outputs": [
    {
     "output_type": "execute_result",
     "data": {
      "text/plain": [
       "Position\n",
       "RF     76.333333\n",
       "LAM    76.333333\n",
       "LF     75.875000\n",
       "RW     75.417722\n",
       "RM     74.943864\n",
       "LW     74.747934\n",
       "LM     74.211538\n",
       "RAM    73.800000\n",
       "RWB    73.128571\n",
       "LWB    72.833333\n",
       "LS     72.338843\n",
       "RS     71.991228\n",
       "RB     71.186709\n",
       "LB     70.718563\n",
       "CF     69.803922\n",
       "ST     68.700397\n",
       "CAM    68.236967\n",
       "LCM    65.334764\n",
       "RCM    65.233333\n",
       "CM     64.299906\n",
       "All    63.205629\n",
       "RDM    62.152174\n",
       "LDM    62.006757\n",
       "CDM    60.813314\n",
       "LCB    58.936430\n",
       "RCB    58.239234\n",
       "CB     57.734854\n",
       "GK     37.622182\n",
       "Name: All, dtype: float64"
      ]
     },
     "metadata": {},
     "execution_count": 43
    }
   ],
   "source": [
    "# Задача 2.\n",
    "\n",
    "df2 = football.pivot_table(values='SprintSpeed', index='Position', columns='Club',aggfunc='mean',margins=True,\n",
    "fill_value=0)\n",
    "#display(df2) \n",
    "df2['All'].sort_values(ascending=False)"
   ]
  },
  {
   "cell_type": "code",
   "execution_count": 54,
   "metadata": {},
   "outputs": [
    {
     "output_type": "execute_result",
     "data": {
      "text/plain": [
       "Club\n",
       "VitГіria              91.000000\n",
       "Sydney FC             88.000000\n",
       "CD Lugo               87.000000\n",
       "BrГёndby IF           84.666667\n",
       "Leicester City        84.500000\n",
       "Manchester United     84.000000\n",
       "KRC Genk              84.000000\n",
       "Feyenoord             84.000000\n",
       "FC ZГјrich            84.000000\n",
       "FC Bayern MГјnchen    84.000000\n",
       "Name: ST, dtype: float64"
      ]
     },
     "metadata": {},
     "execution_count": 54
    }
   ],
   "source": [
    "# Задача 3.\n",
    "\n",
    "df2.loc['ST'].sort_values(ascending=False).head(n=10)"
   ]
  },
  {
   "cell_type": "code",
   "execution_count": null,
   "metadata": {},
   "outputs": [],
   "source": []
  }
 ]
}