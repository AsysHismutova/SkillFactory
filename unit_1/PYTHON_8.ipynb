{
 "metadata": {
  "language_info": {
   "codemirror_mode": {
    "name": "ipython",
    "version": 3
   },
   "file_extension": ".py",
   "mimetype": "text/x-python",
   "name": "python",
   "nbconvert_exporter": "python",
   "pygments_lexer": "ipython3",
   "version": "3.8.2-final"
  },
  "orig_nbformat": 2,
  "kernelspec": {
   "name": "python3",
   "display_name": "Python 3.8.2 32-bit",
   "metadata": {
    "interpreter": {
     "hash": "2db524e06e9f5f4ffedc911c917cb75e12dbc923643829bf417064a77eb14d37"
    }
   }
  }
 },
 "nbformat": 4,
 "nbformat_minor": 2,
 "cells": [
  {
   "cell_type": "code",
   "execution_count": 2,
   "metadata": {},
   "outputs": [],
   "source": [
    "import pandas as pd"
   ]
  },
  {
   "cell_type": "code",
   "execution_count": 73,
   "metadata": {},
   "outputs": [
    {
     "output_type": "execute_result",
     "data": {
      "text/plain": [
       "                                  0                     1   2   3\n",
       "0  Запись пользователя № - user_919  [2019-01-01 14:06:51 NaN NaN\n",
       "1  Запись пользователя № - user_973  [2019-01-01 14:51:16 NaN NaN\n",
       "2  Запись пользователя № - user_903  [2019-01-01 16:31:16 NaN NaN\n",
       "3  Запись пользователя № - user_954  [2019-01-01 17:17:51 NaN NaN\n",
       "4  Запись пользователя № - user_954  [2019-01-01 21:31:18 NaN NaN"
      ],
      "text/html": "<div>\n<style scoped>\n    .dataframe tbody tr th:only-of-type {\n        vertical-align: middle;\n    }\n\n    .dataframe tbody tr th {\n        vertical-align: top;\n    }\n\n    .dataframe thead th {\n        text-align: right;\n    }\n</style>\n<table border=\"1\" class=\"dataframe\">\n  <thead>\n    <tr style=\"text-align: right;\">\n      <th></th>\n      <th>0</th>\n      <th>1</th>\n      <th>2</th>\n      <th>3</th>\n    </tr>\n  </thead>\n  <tbody>\n    <tr>\n      <th>0</th>\n      <td>Запись пользователя № - user_919</td>\n      <td>[2019-01-01 14:06:51</td>\n      <td>NaN</td>\n      <td>NaN</td>\n    </tr>\n    <tr>\n      <th>1</th>\n      <td>Запись пользователя № - user_973</td>\n      <td>[2019-01-01 14:51:16</td>\n      <td>NaN</td>\n      <td>NaN</td>\n    </tr>\n    <tr>\n      <th>2</th>\n      <td>Запись пользователя № - user_903</td>\n      <td>[2019-01-01 16:31:16</td>\n      <td>NaN</td>\n      <td>NaN</td>\n    </tr>\n    <tr>\n      <th>3</th>\n      <td>Запись пользователя № - user_954</td>\n      <td>[2019-01-01 17:17:51</td>\n      <td>NaN</td>\n      <td>NaN</td>\n    </tr>\n    <tr>\n      <th>4</th>\n      <td>Запись пользователя № - user_954</td>\n      <td>[2019-01-01 21:31:18</td>\n      <td>NaN</td>\n      <td>NaN</td>\n    </tr>\n  </tbody>\n</table>\n</div>"
     },
     "metadata": {},
     "execution_count": 73
    }
   ],
   "source": [
    "log = pd.read_csv('log.xls', header=None, sep=',')\n",
    "log.head()"
   ]
  },
  {
   "cell_type": "code",
   "execution_count": 4,
   "metadata": {},
   "outputs": [
    {
     "output_type": "execute_result",
     "data": {
      "text/plain": [
       "            name         city  age profession\n",
       "0         Иванов       Москва   25     Клинер\n",
       "1            NaN    Волгоград   31   Менеджер\n",
       "2         Иванов       Москва   25     Клинер\n",
       "3        sidorov  Владивосток   43   Менеджер\n",
       "4        _______        Курск   50   Водитель\n",
       "5       Кузнецов         Сочи   19    Рабочий\n",
       "6          Сажин       Сургут   29    Рабочий\n",
       "7   Котлеревский   Йошкар-Ола   32    Рабочий\n",
       "8     Завалишина    Чебоксары   36   Менеджер\n",
       "9         Левина          NaN   55    Рабочий\n",
       "10          Фикс         Рига   42    Рабочий"
      ],
      "text/html": "<div>\n<style scoped>\n    .dataframe tbody tr th:only-of-type {\n        vertical-align: middle;\n    }\n\n    .dataframe tbody tr th {\n        vertical-align: top;\n    }\n\n    .dataframe thead th {\n        text-align: right;\n    }\n</style>\n<table border=\"1\" class=\"dataframe\">\n  <thead>\n    <tr style=\"text-align: right;\">\n      <th></th>\n      <th>name</th>\n      <th>city</th>\n      <th>age</th>\n      <th>profession</th>\n    </tr>\n  </thead>\n  <tbody>\n    <tr>\n      <th>0</th>\n      <td>Иванов</td>\n      <td>Москва</td>\n      <td>25</td>\n      <td>Клинер</td>\n    </tr>\n    <tr>\n      <th>1</th>\n      <td>NaN</td>\n      <td>Волгоград</td>\n      <td>31</td>\n      <td>Менеджер</td>\n    </tr>\n    <tr>\n      <th>2</th>\n      <td>Иванов</td>\n      <td>Москва</td>\n      <td>25</td>\n      <td>Клинер</td>\n    </tr>\n    <tr>\n      <th>3</th>\n      <td>sidorov</td>\n      <td>Владивосток</td>\n      <td>43</td>\n      <td>Менеджер</td>\n    </tr>\n    <tr>\n      <th>4</th>\n      <td>_______</td>\n      <td>Курск</td>\n      <td>50</td>\n      <td>Водитель</td>\n    </tr>\n    <tr>\n      <th>5</th>\n      <td>Кузнецов</td>\n      <td>Сочи</td>\n      <td>19</td>\n      <td>Рабочий</td>\n    </tr>\n    <tr>\n      <th>6</th>\n      <td>Сажин</td>\n      <td>Сургут</td>\n      <td>29</td>\n      <td>Рабочий</td>\n    </tr>\n    <tr>\n      <th>7</th>\n      <td>Котлеревский</td>\n      <td>Йошкар-Ола</td>\n      <td>32</td>\n      <td>Рабочий</td>\n    </tr>\n    <tr>\n      <th>8</th>\n      <td>Завалишина</td>\n      <td>Чебоксары</td>\n      <td>36</td>\n      <td>Менеджер</td>\n    </tr>\n    <tr>\n      <th>9</th>\n      <td>Левина</td>\n      <td>NaN</td>\n      <td>55</td>\n      <td>Рабочий</td>\n    </tr>\n    <tr>\n      <th>10</th>\n      <td>Фикс</td>\n      <td>Рига</td>\n      <td>42</td>\n      <td>Рабочий</td>\n    </tr>\n  </tbody>\n</table>\n</div>"
     },
     "metadata": {},
     "execution_count": 4
    }
   ],
   "source": [
    "sample = pd.read_csv('sample.xls')\n",
    "columns = sample.columns\n",
    "sample.columns = columns.str.lower()\n",
    "sample"
   ]
  },
  {
   "cell_type": "code",
   "execution_count": 74,
   "metadata": {},
   "outputs": [
    {
     "output_type": "execute_result",
     "data": {
      "text/plain": [
       "                            user_id                  time  bet  win\n",
       "0  Запись пользователя № - user_919  [2019-01-01 14:06:51  NaN  NaN\n",
       "1  Запись пользователя № - user_973  [2019-01-01 14:51:16  NaN  NaN\n",
       "2  Запись пользователя № - user_903  [2019-01-01 16:31:16  NaN  NaN\n",
       "3  Запись пользователя № - user_954  [2019-01-01 17:17:51  NaN  NaN\n",
       "4  Запись пользователя № - user_954  [2019-01-01 21:31:18  NaN  NaN"
      ],
      "text/html": "<div>\n<style scoped>\n    .dataframe tbody tr th:only-of-type {\n        vertical-align: middle;\n    }\n\n    .dataframe tbody tr th {\n        vertical-align: top;\n    }\n\n    .dataframe thead th {\n        text-align: right;\n    }\n</style>\n<table border=\"1\" class=\"dataframe\">\n  <thead>\n    <tr style=\"text-align: right;\">\n      <th></th>\n      <th>user_id</th>\n      <th>time</th>\n      <th>bet</th>\n      <th>win</th>\n    </tr>\n  </thead>\n  <tbody>\n    <tr>\n      <th>0</th>\n      <td>Запись пользователя № - user_919</td>\n      <td>[2019-01-01 14:06:51</td>\n      <td>NaN</td>\n      <td>NaN</td>\n    </tr>\n    <tr>\n      <th>1</th>\n      <td>Запись пользователя № - user_973</td>\n      <td>[2019-01-01 14:51:16</td>\n      <td>NaN</td>\n      <td>NaN</td>\n    </tr>\n    <tr>\n      <th>2</th>\n      <td>Запись пользователя № - user_903</td>\n      <td>[2019-01-01 16:31:16</td>\n      <td>NaN</td>\n      <td>NaN</td>\n    </tr>\n    <tr>\n      <th>3</th>\n      <td>Запись пользователя № - user_954</td>\n      <td>[2019-01-01 17:17:51</td>\n      <td>NaN</td>\n      <td>NaN</td>\n    </tr>\n    <tr>\n      <th>4</th>\n      <td>Запись пользователя № - user_954</td>\n      <td>[2019-01-01 21:31:18</td>\n      <td>NaN</td>\n      <td>NaN</td>\n    </tr>\n  </tbody>\n</table>\n</div>"
     },
     "metadata": {},
     "execution_count": 74
    }
   ],
   "source": [
    "log.columns = ['user_id', 'time', 'bet', 'win'] \n",
    "log.head()"
   ]
  },
  {
   "cell_type": "code",
   "execution_count": 6,
   "metadata": {},
   "outputs": [
    {
     "output_type": "execute_result",
     "data": {
      "text/plain": [
       "     Юзверь                 мейл        Гео\n",
       "0  User_943  Accumanst@gmail.com     Ижевск\n",
       "1  User_908    Advismowr@mail.ru     Ижевск\n",
       "2  User_962      Anachso@ukr.net  Краснодар\n",
       "3  User_973     Antecia@inbox.ru      Пермь\n",
       "4  User_902   Balliaryva@ukr.net        NaN"
      ],
      "text/html": "<div>\n<style scoped>\n    .dataframe tbody tr th:only-of-type {\n        vertical-align: middle;\n    }\n\n    .dataframe tbody tr th {\n        vertical-align: top;\n    }\n\n    .dataframe thead th {\n        text-align: right;\n    }\n</style>\n<table border=\"1\" class=\"dataframe\">\n  <thead>\n    <tr style=\"text-align: right;\">\n      <th></th>\n      <th>Юзверь</th>\n      <th>мейл</th>\n      <th>Гео</th>\n    </tr>\n  </thead>\n  <tbody>\n    <tr>\n      <th>0</th>\n      <td>User_943</td>\n      <td>Accumanst@gmail.com</td>\n      <td>Ижевск</td>\n    </tr>\n    <tr>\n      <th>1</th>\n      <td>User_908</td>\n      <td>Advismowr@mail.ru</td>\n      <td>Ижевск</td>\n    </tr>\n    <tr>\n      <th>2</th>\n      <td>User_962</td>\n      <td>Anachso@ukr.net</td>\n      <td>Краснодар</td>\n    </tr>\n    <tr>\n      <th>3</th>\n      <td>User_973</td>\n      <td>Antecia@inbox.ru</td>\n      <td>Пермь</td>\n    </tr>\n    <tr>\n      <th>4</th>\n      <td>User_902</td>\n      <td>Balliaryva@ukr.net</td>\n      <td>NaN</td>\n    </tr>\n  </tbody>\n</table>\n</div>"
     },
     "metadata": {},
     "execution_count": 6
    }
   ],
   "source": [
    "##### 6. Формат данных\n",
    "\n",
    "#Задание 1.\n",
    "users = pd.read_csv('users.xls', encoding='KOI8-R', sep='\\t')\n",
    "users.head()"
   ]
  },
  {
   "cell_type": "code",
   "execution_count": 7,
   "metadata": {},
   "outputs": [
    {
     "output_type": "execute_result",
     "data": {
      "text/plain": [
       "    user_id                email        geo\n",
       "0  User_943  Accumanst@gmail.com     Ижевск\n",
       "1  User_908    Advismowr@mail.ru     Ижевск\n",
       "2  User_962      Anachso@ukr.net  Краснодар\n",
       "3  User_973     Antecia@inbox.ru      Пермь\n",
       "4  User_902   Balliaryva@ukr.net        NaN"
      ],
      "text/html": "<div>\n<style scoped>\n    .dataframe tbody tr th:only-of-type {\n        vertical-align: middle;\n    }\n\n    .dataframe tbody tr th {\n        vertical-align: top;\n    }\n\n    .dataframe thead th {\n        text-align: right;\n    }\n</style>\n<table border=\"1\" class=\"dataframe\">\n  <thead>\n    <tr style=\"text-align: right;\">\n      <th></th>\n      <th>user_id</th>\n      <th>email</th>\n      <th>geo</th>\n    </tr>\n  </thead>\n  <tbody>\n    <tr>\n      <th>0</th>\n      <td>User_943</td>\n      <td>Accumanst@gmail.com</td>\n      <td>Ижевск</td>\n    </tr>\n    <tr>\n      <th>1</th>\n      <td>User_908</td>\n      <td>Advismowr@mail.ru</td>\n      <td>Ижевск</td>\n    </tr>\n    <tr>\n      <th>2</th>\n      <td>User_962</td>\n      <td>Anachso@ukr.net</td>\n      <td>Краснодар</td>\n    </tr>\n    <tr>\n      <th>3</th>\n      <td>User_973</td>\n      <td>Antecia@inbox.ru</td>\n      <td>Пермь</td>\n    </tr>\n    <tr>\n      <th>4</th>\n      <td>User_902</td>\n      <td>Balliaryva@ukr.net</td>\n      <td>NaN</td>\n    </tr>\n  </tbody>\n</table>\n</div>"
     },
     "metadata": {},
     "execution_count": 7
    }
   ],
   "source": [
    "users.columns = ['user_id', 'email', 'geo'] \n",
    "users.head()"
   ]
  },
  {
   "cell_type": "code",
   "execution_count": 8,
   "metadata": {},
   "outputs": [],
   "source": [
    "##### 7. Очистка данных"
   ]
  },
  {
   "cell_type": "code",
   "execution_count": 9,
   "metadata": {},
   "outputs": [
    {
     "output_type": "stream",
     "name": "stdout",
     "text": [
      "<class 'pandas.core.frame.DataFrame'>\nRangeIndex: 11 entries, 0 to 10\nData columns (total 4 columns):\n #   Column      Non-Null Count  Dtype \n---  ------      --------------  ----- \n 0   name        10 non-null     object\n 1   city        10 non-null     object\n 2   age         11 non-null     int64 \n 3   profession  11 non-null     object\ndtypes: int64(1), object(3)\nmemory usage: 284.0+ bytes\n"
     ]
    }
   ],
   "source": [
    "sample.info()\n"
   ]
  },
  {
   "cell_type": "code",
   "execution_count": 10,
   "metadata": {},
   "outputs": [
    {
     "output_type": "execute_result",
     "data": {
      "text/plain": [
       "array(['Иванов', nan, 'sidorov', '_______', 'Кузнецов', 'Сажин',\n",
       "       'Котлеревский', 'Завалишина', 'Левина', 'Фикс'], dtype=object)"
      ]
     },
     "metadata": {},
     "execution_count": 10
    }
   ],
   "source": [
    "sample.name.unique()"
   ]
  },
  {
   "source": [
    "log.user_id.unique()"
   ],
   "cell_type": "code",
   "metadata": {},
   "execution_count": 11,
   "outputs": [
    {
     "output_type": "execute_result",
     "data": {
      "text/plain": [
       "array(['Запись пользователя № - user_919',\n",
       "       'Запись пользователя № - user_973',\n",
       "       'Запись пользователя № - user_903',\n",
       "       'Запись пользователя № - user_954',\n",
       "       'Запись пользователя № - user_917',\n",
       "       'Запись пользователя № - user_900',\n",
       "       'Запись пользователя № - user_980',\n",
       "       'Запись пользователя № - user_906',\n",
       "       'Запись пользователя № - user_952',\n",
       "       'Запись пользователя № - user_972',\n",
       "       'Запись пользователя № - user_966',\n",
       "       'Запись пользователя № - user_964',\n",
       "       'Запись пользователя № - user_978',\n",
       "       'Запись пользователя № - user_968',\n",
       "       'Запись пользователя № - user_974',\n",
       "       'Запись пользователя № - user_998',\n",
       "       'Запись пользователя № - user_990',\n",
       "       'Запись пользователя № - user_942',\n",
       "       'Запись пользователя № - user_929',\n",
       "       'Запись пользователя № - user_976',\n",
       "       'Запись пользователя № - user_927',\n",
       "       'Запись пользователя № - user_951',\n",
       "       'Запись пользователя № - user_949',\n",
       "       'Запись пользователя № - user_987',\n",
       "       'Запись пользователя № - user_985',\n",
       "       'Запись пользователя № - user_992',\n",
       "       'Запись пользователя № - user_937',\n",
       "       'Запись пользователя № - user_913',\n",
       "       'Запись пользователя № - user_948',\n",
       "       'Запись пользователя № - user_916',\n",
       "       'Запись пользователя № - user_938',\n",
       "       'Запись пользователя № - user_997',\n",
       "       'Запись пользователя № - user_940',\n",
       "       'Запись пользователя № - user_918',\n",
       "       'Запись пользователя № - user_960',\n",
       "       'Запись пользователя № - user_905',\n",
       "       'Запись пользователя № - user_924',\n",
       "       'Запись пользователя № - user_958',\n",
       "       'Запись пользователя № - user_920',\n",
       "       'Запись пользователя № - user_943',\n",
       "       'Запись пользователя № - user_935',\n",
       "       'Запись пользователя № - user_915',\n",
       "       'Запись пользователя № - user_921',\n",
       "       'Запись пользователя № - user_999',\n",
       "       'Запись пользователя № - user_982',\n",
       "       'Запись пользователя № - user_928',\n",
       "       'Запись пользователя № - user_944',\n",
       "       'Запись пользователя № - user_912',\n",
       "       'Запись пользователя № - user_969',\n",
       "       'Запись пользователя № - user_901',\n",
       "       'Запись пользователя № - user_995',\n",
       "       'Запись пользователя № - user_933',\n",
       "       'Запись пользователя № - user_986',\n",
       "       'Запись пользователя № - user_971',\n",
       "       'Запись пользователя № - user_977',\n",
       "       'Запись пользователя № - user_979',\n",
       "       'Запись пользователя № - user_910',\n",
       "       'Запись пользователя № - user_994',\n",
       "       'Запись пользователя № - user_907',\n",
       "       'Запись пользователя № - user_941',\n",
       "       'Запись пользователя № - user_989',\n",
       "       'Запись пользователя № - user_955',\n",
       "       'Запись пользователя № - user_991',\n",
       "       'Запись пользователя № - user_996',\n",
       "       'Запись пользователя № - user_926',\n",
       "       'Запись пользователя № - user_984',\n",
       "       'Запись пользователя № - user_957',\n",
       "       'Запись пользователя № - user_914',\n",
       "       'Запись пользователя № - user_988',\n",
       "       'Запись пользователя № - user_923',\n",
       "       'Запись пользователя № - user_967',\n",
       "       'Запись пользователя № - user_945',\n",
       "       'Запись пользователя № - user_993',\n",
       "       'Запись пользователя № - user_908',\n",
       "       'Запись пользователя № - user_930',\n",
       "       'Запись пользователя № - user_981',\n",
       "       'Запись пользователя № - user_936',\n",
       "       'Запись пользователя № - user_922',\n",
       "       'Запись пользователя № - user_962',\n",
       "       'Запись пользователя № - user_965',\n",
       "       'Запись пользователя № - user_959',\n",
       "       'Запись пользователя № - user_963',\n",
       "       'Запись пользователя № - user_904',\n",
       "       'Запись пользователя № - user_931',\n",
       "       'Запись пользователя № - user_1000',\n",
       "       'Запись пользователя № - user_946',\n",
       "       'Запись пользователя № - user_970',\n",
       "       'Запись пользователя № - user_939',\n",
       "       'Запись пользователя № - user_961',\n",
       "       'Запись пользователя № - user_911',\n",
       "       'Запись пользователя № - user_950',\n",
       "       'Запись пользователя № - user_956',\n",
       "       'Запись пользователя № - user_909',\n",
       "       'Запись пользователя № - user_983',\n",
       "       'Запись пользователя № - user_902',\n",
       "       'Запись пользователя № - user_947',\n",
       "       'Запись пользователя № - user_975',\n",
       "       'Запись пользователя № - user_953',\n",
       "       'Запись пользователя № - user_925',\n",
       "       'Запись пользователя № - user_934',\n",
       "       'Запись пользователя № - user_932', '#error'], dtype=object)"
      ]
     },
     "metadata": {},
     "execution_count": 11
    }
   ]
  },
  {
   "cell_type": "code",
   "execution_count": 12,
   "metadata": {},
   "outputs": [],
   "source": [
    "##### 8. Простая фильтрация"
   ]
  },
  {
   "cell_type": "code",
   "execution_count": 13,
   "metadata": {},
   "outputs": [],
   "source": [
    "# Задание 1.\n",
    "sample2 = sample[sample['age']<30]"
   ]
  },
  {
   "cell_type": "code",
   "execution_count": 14,
   "metadata": {},
   "outputs": [
    {
     "output_type": "execute_result",
     "data": {
      "text/plain": [
       "138"
      ]
     },
     "metadata": {},
     "execution_count": 14
    }
   ],
   "source": [
    "# Задание 2.\n",
    "log_win = log[log['win'].notna()]\n",
    "win_count = len(log_win.win)\n",
    "win_count "
   ]
  },
  {
   "cell_type": "code",
   "execution_count": 15,
   "metadata": {},
   "outputs": [
    {
     "output_type": "execute_result",
     "data": {
      "text/plain": [
       "       name    city  age profession\n",
       "5  Кузнецов    Сочи   19    Рабочий\n",
       "6     Сажин  Сургут   29    Рабочий"
      ],
      "text/html": "<div>\n<style scoped>\n    .dataframe tbody tr th:only-of-type {\n        vertical-align: middle;\n    }\n\n    .dataframe tbody tr th {\n        vertical-align: top;\n    }\n\n    .dataframe thead th {\n        text-align: right;\n    }\n</style>\n<table border=\"1\" class=\"dataframe\">\n  <thead>\n    <tr style=\"text-align: right;\">\n      <th></th>\n      <th>name</th>\n      <th>city</th>\n      <th>age</th>\n      <th>profession</th>\n    </tr>\n  </thead>\n  <tbody>\n    <tr>\n      <th>5</th>\n      <td>Кузнецов</td>\n      <td>Сочи</td>\n      <td>19</td>\n      <td>Рабочий</td>\n    </tr>\n    <tr>\n      <th>6</th>\n      <td>Сажин</td>\n      <td>Сургут</td>\n      <td>29</td>\n      <td>Рабочий</td>\n    </tr>\n  </tbody>\n</table>\n</div>"
     },
     "metadata": {},
     "execution_count": 15
    }
   ],
   "source": [
    "# Задание 3.\n",
    "sample2 = sample[(sample.age<30) & (sample.profession=='Рабочий')]\n",
    "sample2"
   ]
  },
  {
   "cell_type": "code",
   "execution_count": 16,
   "metadata": {},
   "outputs": [],
   "source": [
    "##### 9. Функция query"
   ]
  },
  {
   "cell_type": "code",
   "execution_count": 17,
   "metadata": {},
   "outputs": [
    {
     "output_type": "execute_result",
     "data": {
      "text/plain": [
       "     name    city  age profession\n",
       "0  Иванов  Москва   25     Клинер\n",
       "2  Иванов  Москва   25     Клинер"
      ],
      "text/html": "<div>\n<style scoped>\n    .dataframe tbody tr th:only-of-type {\n        vertical-align: middle;\n    }\n\n    .dataframe tbody tr th {\n        vertical-align: top;\n    }\n\n    .dataframe thead th {\n        text-align: right;\n    }\n</style>\n<table border=\"1\" class=\"dataframe\">\n  <thead>\n    <tr style=\"text-align: right;\">\n      <th></th>\n      <th>name</th>\n      <th>city</th>\n      <th>age</th>\n      <th>profession</th>\n    </tr>\n  </thead>\n  <tbody>\n    <tr>\n      <th>0</th>\n      <td>Иванов</td>\n      <td>Москва</td>\n      <td>25</td>\n      <td>Клинер</td>\n    </tr>\n    <tr>\n      <th>2</th>\n      <td>Иванов</td>\n      <td>Москва</td>\n      <td>25</td>\n      <td>Клинер</td>\n    </tr>\n  </tbody>\n</table>\n</div>"
     },
     "metadata": {},
     "execution_count": 17
    }
   ],
   "source": [
    "sample.query('age==25')"
   ]
  },
  {
   "cell_type": "code",
   "execution_count": 18,
   "metadata": {},
   "outputs": [
    {
     "output_type": "execute_result",
     "data": {
      "text/plain": [
       "                              user_id                  time    bet     win\n",
       "151  Запись пользователя № - user_982  [2019-01-16 21:54:22  100.0  4749.0\n",
       "189  Запись пользователя № - user_964  [2019-01-21 18:34:44  200.0  4667.0\n",
       "205  Запись пользователя № - user_931   [2019-01-22 5:26:59  300.0  4319.0\n",
       "232  Запись пользователя № - user_998   [2019-01-25 8:57:20  500.0  5069.0\n",
       "265  Запись пользователя № - user_998  [2019-01-29 10:37:55  500.0  6294.0"
      ],
      "text/html": "<div>\n<style scoped>\n    .dataframe tbody tr th:only-of-type {\n        vertical-align: middle;\n    }\n\n    .dataframe tbody tr th {\n        vertical-align: top;\n    }\n\n    .dataframe thead th {\n        text-align: right;\n    }\n</style>\n<table border=\"1\" class=\"dataframe\">\n  <thead>\n    <tr style=\"text-align: right;\">\n      <th></th>\n      <th>user_id</th>\n      <th>time</th>\n      <th>bet</th>\n      <th>win</th>\n    </tr>\n  </thead>\n  <tbody>\n    <tr>\n      <th>151</th>\n      <td>Запись пользователя № - user_982</td>\n      <td>[2019-01-16 21:54:22</td>\n      <td>100.0</td>\n      <td>4749.0</td>\n    </tr>\n    <tr>\n      <th>189</th>\n      <td>Запись пользователя № - user_964</td>\n      <td>[2019-01-21 18:34:44</td>\n      <td>200.0</td>\n      <td>4667.0</td>\n    </tr>\n    <tr>\n      <th>205</th>\n      <td>Запись пользователя № - user_931</td>\n      <td>[2019-01-22 5:26:59</td>\n      <td>300.0</td>\n      <td>4319.0</td>\n    </tr>\n    <tr>\n      <th>232</th>\n      <td>Запись пользователя № - user_998</td>\n      <td>[2019-01-25 8:57:20</td>\n      <td>500.0</td>\n      <td>5069.0</td>\n    </tr>\n    <tr>\n      <th>265</th>\n      <td>Запись пользователя № - user_998</td>\n      <td>[2019-01-29 10:37:55</td>\n      <td>500.0</td>\n      <td>6294.0</td>\n    </tr>\n  </tbody>\n</table>\n</div>"
     },
     "metadata": {},
     "execution_count": 18
    }
   ],
   "source": [
    "# Задание 1.\n",
    "log2 = log.query('bet<2000 & win>0')\n",
    "log2.head()"
   ]
  },
  {
   "cell_type": "code",
   "execution_count": 19,
   "metadata": {},
   "outputs": [],
   "source": [
    "##### 10. Функции str.match и str.contains"
   ]
  },
  {
   "cell_type": "code",
   "execution_count": 20,
   "metadata": {},
   "outputs": [
    {
     "output_type": "execute_result",
     "data": {
      "text/plain": [
       "           name        city  age profession\n",
       "5      Кузнецов        Сочи   19    Рабочий\n",
       "7  Котлеревский  Йошкар-Ола   32    Рабочий"
      ],
      "text/html": "<div>\n<style scoped>\n    .dataframe tbody tr th:only-of-type {\n        vertical-align: middle;\n    }\n\n    .dataframe tbody tr th {\n        vertical-align: top;\n    }\n\n    .dataframe thead th {\n        text-align: right;\n    }\n</style>\n<table border=\"1\" class=\"dataframe\">\n  <thead>\n    <tr style=\"text-align: right;\">\n      <th></th>\n      <th>name</th>\n      <th>city</th>\n      <th>age</th>\n      <th>profession</th>\n    </tr>\n  </thead>\n  <tbody>\n    <tr>\n      <th>5</th>\n      <td>Кузнецов</td>\n      <td>Сочи</td>\n      <td>19</td>\n      <td>Рабочий</td>\n    </tr>\n    <tr>\n      <th>7</th>\n      <td>Котлеревский</td>\n      <td>Йошкар-Ола</td>\n      <td>32</td>\n      <td>Рабочий</td>\n    </tr>\n  </tbody>\n</table>\n</div>"
     },
     "metadata": {},
     "execution_count": 20
    }
   ],
   "source": [
    "sample[sample.name.str.match(\"К\", na=False)]"
   ]
  },
  {
   "cell_type": "code",
   "execution_count": 21,
   "metadata": {},
   "outputs": [
    {
     "output_type": "execute_result",
     "data": {
      "text/plain": [
       "          name         city  age profession\n",
       "0       Иванов       Москва   25     Клинер\n",
       "1          NaN    Волгоград   31   Менеджер\n",
       "2       Иванов       Москва   25     Клинер\n",
       "3      sidorov  Владивосток   43   Менеджер\n",
       "4      _______        Курск   50   Водитель\n",
       "6        Сажин       Сургут   29    Рабочий\n",
       "8   Завалишина    Чебоксары   36   Менеджер\n",
       "9       Левина          NaN   55    Рабочий\n",
       "10        Фикс         Рига   42    Рабочий"
      ],
      "text/html": "<div>\n<style scoped>\n    .dataframe tbody tr th:only-of-type {\n        vertical-align: middle;\n    }\n\n    .dataframe tbody tr th {\n        vertical-align: top;\n    }\n\n    .dataframe thead th {\n        text-align: right;\n    }\n</style>\n<table border=\"1\" class=\"dataframe\">\n  <thead>\n    <tr style=\"text-align: right;\">\n      <th></th>\n      <th>name</th>\n      <th>city</th>\n      <th>age</th>\n      <th>profession</th>\n    </tr>\n  </thead>\n  <tbody>\n    <tr>\n      <th>0</th>\n      <td>Иванов</td>\n      <td>Москва</td>\n      <td>25</td>\n      <td>Клинер</td>\n    </tr>\n    <tr>\n      <th>1</th>\n      <td>NaN</td>\n      <td>Волгоград</td>\n      <td>31</td>\n      <td>Менеджер</td>\n    </tr>\n    <tr>\n      <th>2</th>\n      <td>Иванов</td>\n      <td>Москва</td>\n      <td>25</td>\n      <td>Клинер</td>\n    </tr>\n    <tr>\n      <th>3</th>\n      <td>sidorov</td>\n      <td>Владивосток</td>\n      <td>43</td>\n      <td>Менеджер</td>\n    </tr>\n    <tr>\n      <th>4</th>\n      <td>_______</td>\n      <td>Курск</td>\n      <td>50</td>\n      <td>Водитель</td>\n    </tr>\n    <tr>\n      <th>6</th>\n      <td>Сажин</td>\n      <td>Сургут</td>\n      <td>29</td>\n      <td>Рабочий</td>\n    </tr>\n    <tr>\n      <th>8</th>\n      <td>Завалишина</td>\n      <td>Чебоксары</td>\n      <td>36</td>\n      <td>Менеджер</td>\n    </tr>\n    <tr>\n      <th>9</th>\n      <td>Левина</td>\n      <td>NaN</td>\n      <td>55</td>\n      <td>Рабочий</td>\n    </tr>\n    <tr>\n      <th>10</th>\n      <td>Фикс</td>\n      <td>Рига</td>\n      <td>42</td>\n      <td>Рабочий</td>\n    </tr>\n  </tbody>\n</table>\n</div>"
     },
     "metadata": {},
     "execution_count": 21
    }
   ],
   "source": [
    "# use ~ to get negatination of the condition\n",
    "sample[~sample.name.str.match(\"К\", na=False)]"
   ]
  },
  {
   "cell_type": "code",
   "execution_count": 22,
   "metadata": {},
   "outputs": [
    {
     "output_type": "execute_result",
     "data": {
      "text/plain": [
       "           name         city  age profession\n",
       "0        Иванов       Москва   25     Клинер\n",
       "1           NaN    Волгоград   31   Менеджер\n",
       "2        Иванов       Москва   25     Клинер\n",
       "3       sidorov  Владивосток   43   Менеджер\n",
       "5      Кузнецов         Сочи   19    Рабочий\n",
       "7  Котлеревский   Йошкар-Ола   32    Рабочий\n",
       "8    Завалишина    Чебоксары   36   Менеджер"
      ],
      "text/html": "<div>\n<style scoped>\n    .dataframe tbody tr th:only-of-type {\n        vertical-align: middle;\n    }\n\n    .dataframe tbody tr th {\n        vertical-align: top;\n    }\n\n    .dataframe thead th {\n        text-align: right;\n    }\n</style>\n<table border=\"1\" class=\"dataframe\">\n  <thead>\n    <tr style=\"text-align: right;\">\n      <th></th>\n      <th>name</th>\n      <th>city</th>\n      <th>age</th>\n      <th>profession</th>\n    </tr>\n  </thead>\n  <tbody>\n    <tr>\n      <th>0</th>\n      <td>Иванов</td>\n      <td>Москва</td>\n      <td>25</td>\n      <td>Клинер</td>\n    </tr>\n    <tr>\n      <th>1</th>\n      <td>NaN</td>\n      <td>Волгоград</td>\n      <td>31</td>\n      <td>Менеджер</td>\n    </tr>\n    <tr>\n      <th>2</th>\n      <td>Иванов</td>\n      <td>Москва</td>\n      <td>25</td>\n      <td>Клинер</td>\n    </tr>\n    <tr>\n      <th>3</th>\n      <td>sidorov</td>\n      <td>Владивосток</td>\n      <td>43</td>\n      <td>Менеджер</td>\n    </tr>\n    <tr>\n      <th>5</th>\n      <td>Кузнецов</td>\n      <td>Сочи</td>\n      <td>19</td>\n      <td>Рабочий</td>\n    </tr>\n    <tr>\n      <th>7</th>\n      <td>Котлеревский</td>\n      <td>Йошкар-Ола</td>\n      <td>32</td>\n      <td>Рабочий</td>\n    </tr>\n    <tr>\n      <th>8</th>\n      <td>Завалишина</td>\n      <td>Чебоксары</td>\n      <td>36</td>\n      <td>Менеджер</td>\n    </tr>\n  </tbody>\n</table>\n</div>"
     },
     "metadata": {},
     "execution_count": 22
    }
   ],
   "source": [
    "# Задание 1.\n",
    "sample3 = sample[sample.city.str.contains(\"о\", na=False)]\n",
    "sample3"
   ]
  },
  {
   "cell_type": "code",
   "execution_count": 23,
   "metadata": {},
   "outputs": [
    {
     "output_type": "execute_result",
     "data": {
      "text/plain": [
       "       name    city  age profession\n",
       "4   _______   Курск   50   Водитель\n",
       "6     Сажин  Сургут   29    Рабочий\n",
       "9    Левина     NaN   55    Рабочий\n",
       "10     Фикс    Рига   42    Рабочий"
      ],
      "text/html": "<div>\n<style scoped>\n    .dataframe tbody tr th:only-of-type {\n        vertical-align: middle;\n    }\n\n    .dataframe tbody tr th {\n        vertical-align: top;\n    }\n\n    .dataframe thead th {\n        text-align: right;\n    }\n</style>\n<table border=\"1\" class=\"dataframe\">\n  <thead>\n    <tr style=\"text-align: right;\">\n      <th></th>\n      <th>name</th>\n      <th>city</th>\n      <th>age</th>\n      <th>profession</th>\n    </tr>\n  </thead>\n  <tbody>\n    <tr>\n      <th>4</th>\n      <td>_______</td>\n      <td>Курск</td>\n      <td>50</td>\n      <td>Водитель</td>\n    </tr>\n    <tr>\n      <th>6</th>\n      <td>Сажин</td>\n      <td>Сургут</td>\n      <td>29</td>\n      <td>Рабочий</td>\n    </tr>\n    <tr>\n      <th>9</th>\n      <td>Левина</td>\n      <td>NaN</td>\n      <td>55</td>\n      <td>Рабочий</td>\n    </tr>\n    <tr>\n      <th>10</th>\n      <td>Фикс</td>\n      <td>Рига</td>\n      <td>42</td>\n      <td>Рабочий</td>\n    </tr>\n  </tbody>\n</table>\n</div>"
     },
     "metadata": {},
     "execution_count": 23
    }
   ],
   "source": [
    "# Задание 2.\n",
    "sample4 = sample[~sample.city.str.contains(\"о\", na=False)]\n",
    "sample4"
   ]
  },
  {
   "cell_type": "code",
   "execution_count": 24,
   "metadata": {},
   "outputs": [
    {
     "output_type": "execute_result",
     "data": {
      "text/plain": [
       "                            user_id                  time  bet  win\n",
       "0  Запись пользователя № - user_919  [2019-01-01 14:06:51  NaN  NaN\n",
       "1  Запись пользователя № - user_973  [2019-01-01 14:51:16  NaN  NaN\n",
       "2  Запись пользователя № - user_903  [2019-01-01 16:31:16  NaN  NaN\n",
       "3  Запись пользователя № - user_954  [2019-01-01 17:17:51  NaN  NaN\n",
       "4  Запись пользователя № - user_954  [2019-01-01 21:31:18  NaN  NaN"
      ],
      "text/html": "<div>\n<style scoped>\n    .dataframe tbody tr th:only-of-type {\n        vertical-align: middle;\n    }\n\n    .dataframe tbody tr th {\n        vertical-align: top;\n    }\n\n    .dataframe thead th {\n        text-align: right;\n    }\n</style>\n<table border=\"1\" class=\"dataframe\">\n  <thead>\n    <tr style=\"text-align: right;\">\n      <th></th>\n      <th>user_id</th>\n      <th>time</th>\n      <th>bet</th>\n      <th>win</th>\n    </tr>\n  </thead>\n  <tbody>\n    <tr>\n      <th>0</th>\n      <td>Запись пользователя № - user_919</td>\n      <td>[2019-01-01 14:06:51</td>\n      <td>NaN</td>\n      <td>NaN</td>\n    </tr>\n    <tr>\n      <th>1</th>\n      <td>Запись пользователя № - user_973</td>\n      <td>[2019-01-01 14:51:16</td>\n      <td>NaN</td>\n      <td>NaN</td>\n    </tr>\n    <tr>\n      <th>2</th>\n      <td>Запись пользователя № - user_903</td>\n      <td>[2019-01-01 16:31:16</td>\n      <td>NaN</td>\n      <td>NaN</td>\n    </tr>\n    <tr>\n      <th>3</th>\n      <td>Запись пользователя № - user_954</td>\n      <td>[2019-01-01 17:17:51</td>\n      <td>NaN</td>\n      <td>NaN</td>\n    </tr>\n    <tr>\n      <th>4</th>\n      <td>Запись пользователя № - user_954</td>\n      <td>[2019-01-01 21:31:18</td>\n      <td>NaN</td>\n      <td>NaN</td>\n    </tr>\n  </tbody>\n</table>\n</div>"
     },
     "metadata": {},
     "execution_count": 24
    }
   ],
   "source": [
    "# Задание 3.\n",
    "new_log = log[~log.user_id.str.contains(\"error\", na=False)]\n",
    "new_log.head()"
   ]
  },
  {
   "cell_type": "code",
   "execution_count": 25,
   "metadata": {},
   "outputs": [],
   "source": [
    "##### 11. Преобразование данных"
   ]
  },
  {
   "cell_type": "code",
   "execution_count": 26,
   "metadata": {},
   "outputs": [
    {
     "output_type": "execute_result",
     "data": {
      "text/plain": [
       "0      625\n",
       "1      961\n",
       "2      625\n",
       "3     1849\n",
       "4     2500\n",
       "5      361\n",
       "6      841\n",
       "7     1024\n",
       "8     1296\n",
       "9     3025\n",
       "10    1764\n",
       "Name: age, dtype: int64"
      ]
     },
     "metadata": {},
     "execution_count": 26
    }
   ],
   "source": [
    "sample.age.apply(lambda x:x**2)"
   ]
  },
  {
   "cell_type": "code",
   "execution_count": 27,
   "metadata": {},
   "outputs": [
    {
     "output_type": "execute_result",
     "data": {
      "text/plain": [
       "            name         city  age profession\n",
       "0         Иванов       Москва   26     Клинер\n",
       "1            NaN    Волгоград   32   Менеджер\n",
       "2         Иванов       Москва   26     Клинер\n",
       "3        sidorov  Владивосток   44   Менеджер\n",
       "4        _______        Курск   51   Водитель\n",
       "5       Кузнецов         Сочи   20    Рабочий\n",
       "6          Сажин       Сургут   30    Рабочий\n",
       "7   Котлеревский   Йошкар-Ола   33    Рабочий\n",
       "8     Завалишина    Чебоксары   37   Менеджер\n",
       "9         Левина          NaN   56    Рабочий\n",
       "10          Фикс         Рига   43    Рабочий"
      ],
      "text/html": "<div>\n<style scoped>\n    .dataframe tbody tr th:only-of-type {\n        vertical-align: middle;\n    }\n\n    .dataframe tbody tr th {\n        vertical-align: top;\n    }\n\n    .dataframe thead th {\n        text-align: right;\n    }\n</style>\n<table border=\"1\" class=\"dataframe\">\n  <thead>\n    <tr style=\"text-align: right;\">\n      <th></th>\n      <th>name</th>\n      <th>city</th>\n      <th>age</th>\n      <th>profession</th>\n    </tr>\n  </thead>\n  <tbody>\n    <tr>\n      <th>0</th>\n      <td>Иванов</td>\n      <td>Москва</td>\n      <td>26</td>\n      <td>Клинер</td>\n    </tr>\n    <tr>\n      <th>1</th>\n      <td>NaN</td>\n      <td>Волгоград</td>\n      <td>32</td>\n      <td>Менеджер</td>\n    </tr>\n    <tr>\n      <th>2</th>\n      <td>Иванов</td>\n      <td>Москва</td>\n      <td>26</td>\n      <td>Клинер</td>\n    </tr>\n    <tr>\n      <th>3</th>\n      <td>sidorov</td>\n      <td>Владивосток</td>\n      <td>44</td>\n      <td>Менеджер</td>\n    </tr>\n    <tr>\n      <th>4</th>\n      <td>_______</td>\n      <td>Курск</td>\n      <td>51</td>\n      <td>Водитель</td>\n    </tr>\n    <tr>\n      <th>5</th>\n      <td>Кузнецов</td>\n      <td>Сочи</td>\n      <td>20</td>\n      <td>Рабочий</td>\n    </tr>\n    <tr>\n      <th>6</th>\n      <td>Сажин</td>\n      <td>Сургут</td>\n      <td>30</td>\n      <td>Рабочий</td>\n    </tr>\n    <tr>\n      <th>7</th>\n      <td>Котлеревский</td>\n      <td>Йошкар-Ола</td>\n      <td>33</td>\n      <td>Рабочий</td>\n    </tr>\n    <tr>\n      <th>8</th>\n      <td>Завалишина</td>\n      <td>Чебоксары</td>\n      <td>37</td>\n      <td>Менеджер</td>\n    </tr>\n    <tr>\n      <th>9</th>\n      <td>Левина</td>\n      <td>NaN</td>\n      <td>56</td>\n      <td>Рабочий</td>\n    </tr>\n    <tr>\n      <th>10</th>\n      <td>Фикс</td>\n      <td>Рига</td>\n      <td>43</td>\n      <td>Рабочий</td>\n    </tr>\n  </tbody>\n</table>\n</div>"
     },
     "metadata": {},
     "execution_count": 27
    }
   ],
   "source": [
    "# Задание 1.\n",
    "sample2 = sample\n",
    "sample2.age = sample2.age.apply(lambda x:x+1)\n",
    "sample2"
   ]
  },
  {
   "cell_type": "code",
   "execution_count": 28,
   "metadata": {},
   "outputs": [
    {
     "output_type": "execute_result",
     "data": {
      "text/plain": [
       "            name         city  age profession\n",
       "0         Иванов       москва   26     Клинер\n",
       "1            NaN    волгоград   32   Менеджер\n",
       "2         Иванов       москва   26     Клинер\n",
       "3        sidorov  владивосток   44   Менеджер\n",
       "4        _______        курск   51   Водитель\n",
       "5       Кузнецов         сочи   20    Рабочий\n",
       "6          Сажин       сургут   30    Рабочий\n",
       "7   Котлеревский   йошкар-ола   33    Рабочий\n",
       "8     Завалишина    чебоксары   37   Менеджер\n",
       "9         Левина          nan   56    Рабочий\n",
       "10          Фикс         рига   43    Рабочий"
      ],
      "text/html": "<div>\n<style scoped>\n    .dataframe tbody tr th:only-of-type {\n        vertical-align: middle;\n    }\n\n    .dataframe tbody tr th {\n        vertical-align: top;\n    }\n\n    .dataframe thead th {\n        text-align: right;\n    }\n</style>\n<table border=\"1\" class=\"dataframe\">\n  <thead>\n    <tr style=\"text-align: right;\">\n      <th></th>\n      <th>name</th>\n      <th>city</th>\n      <th>age</th>\n      <th>profession</th>\n    </tr>\n  </thead>\n  <tbody>\n    <tr>\n      <th>0</th>\n      <td>Иванов</td>\n      <td>москва</td>\n      <td>26</td>\n      <td>Клинер</td>\n    </tr>\n    <tr>\n      <th>1</th>\n      <td>NaN</td>\n      <td>волгоград</td>\n      <td>32</td>\n      <td>Менеджер</td>\n    </tr>\n    <tr>\n      <th>2</th>\n      <td>Иванов</td>\n      <td>москва</td>\n      <td>26</td>\n      <td>Клинер</td>\n    </tr>\n    <tr>\n      <th>3</th>\n      <td>sidorov</td>\n      <td>владивосток</td>\n      <td>44</td>\n      <td>Менеджер</td>\n    </tr>\n    <tr>\n      <th>4</th>\n      <td>_______</td>\n      <td>курск</td>\n      <td>51</td>\n      <td>Водитель</td>\n    </tr>\n    <tr>\n      <th>5</th>\n      <td>Кузнецов</td>\n      <td>сочи</td>\n      <td>20</td>\n      <td>Рабочий</td>\n    </tr>\n    <tr>\n      <th>6</th>\n      <td>Сажин</td>\n      <td>сургут</td>\n      <td>30</td>\n      <td>Рабочий</td>\n    </tr>\n    <tr>\n      <th>7</th>\n      <td>Котлеревский</td>\n      <td>йошкар-ола</td>\n      <td>33</td>\n      <td>Рабочий</td>\n    </tr>\n    <tr>\n      <th>8</th>\n      <td>Завалишина</td>\n      <td>чебоксары</td>\n      <td>37</td>\n      <td>Менеджер</td>\n    </tr>\n    <tr>\n      <th>9</th>\n      <td>Левина</td>\n      <td>nan</td>\n      <td>56</td>\n      <td>Рабочий</td>\n    </tr>\n    <tr>\n      <th>10</th>\n      <td>Фикс</td>\n      <td>рига</td>\n      <td>43</td>\n      <td>Рабочий</td>\n    </tr>\n  </tbody>\n</table>\n</div>"
     },
     "metadata": {},
     "execution_count": 28
    }
   ],
   "source": [
    "# Задание 2.\n",
    "sample2 = sample\n",
    "sample2.city = sample2.city.apply(lambda s:str(s).lower())\n",
    "sample2"
   ]
  },
  {
   "cell_type": "code",
   "execution_count": 29,
   "metadata": {},
   "outputs": [],
   "source": [
    "# Задание 3.\n",
    "def profession_code(s):\n",
    "    if s == 'Рабочий':\n",
    "        return 0\n",
    "    elif s =='Менеджер':\n",
    "        return 1 \n",
    "    else:\n",
    "        return 2\n"
   ]
  },
  {
   "cell_type": "code",
   "execution_count": 30,
   "metadata": {},
   "outputs": [
    {
     "output_type": "execute_result",
     "data": {
      "text/plain": [
       "            name         city  age  profession\n",
       "0         Иванов       москва   26           2\n",
       "1            NaN    волгоград   32           1\n",
       "2         Иванов       москва   26           2\n",
       "3        sidorov  владивосток   44           1\n",
       "4        _______        курск   51           2\n",
       "5       Кузнецов         сочи   20           0\n",
       "6          Сажин       сургут   30           0\n",
       "7   Котлеревский   йошкар-ола   33           0\n",
       "8     Завалишина    чебоксары   37           1\n",
       "9         Левина          nan   56           0\n",
       "10          Фикс         рига   43           0"
      ],
      "text/html": "<div>\n<style scoped>\n    .dataframe tbody tr th:only-of-type {\n        vertical-align: middle;\n    }\n\n    .dataframe tbody tr th {\n        vertical-align: top;\n    }\n\n    .dataframe thead th {\n        text-align: right;\n    }\n</style>\n<table border=\"1\" class=\"dataframe\">\n  <thead>\n    <tr style=\"text-align: right;\">\n      <th></th>\n      <th>name</th>\n      <th>city</th>\n      <th>age</th>\n      <th>profession</th>\n    </tr>\n  </thead>\n  <tbody>\n    <tr>\n      <th>0</th>\n      <td>Иванов</td>\n      <td>москва</td>\n      <td>26</td>\n      <td>2</td>\n    </tr>\n    <tr>\n      <th>1</th>\n      <td>NaN</td>\n      <td>волгоград</td>\n      <td>32</td>\n      <td>1</td>\n    </tr>\n    <tr>\n      <th>2</th>\n      <td>Иванов</td>\n      <td>москва</td>\n      <td>26</td>\n      <td>2</td>\n    </tr>\n    <tr>\n      <th>3</th>\n      <td>sidorov</td>\n      <td>владивосток</td>\n      <td>44</td>\n      <td>1</td>\n    </tr>\n    <tr>\n      <th>4</th>\n      <td>_______</td>\n      <td>курск</td>\n      <td>51</td>\n      <td>2</td>\n    </tr>\n    <tr>\n      <th>5</th>\n      <td>Кузнецов</td>\n      <td>сочи</td>\n      <td>20</td>\n      <td>0</td>\n    </tr>\n    <tr>\n      <th>6</th>\n      <td>Сажин</td>\n      <td>сургут</td>\n      <td>30</td>\n      <td>0</td>\n    </tr>\n    <tr>\n      <th>7</th>\n      <td>Котлеревский</td>\n      <td>йошкар-ола</td>\n      <td>33</td>\n      <td>0</td>\n    </tr>\n    <tr>\n      <th>8</th>\n      <td>Завалишина</td>\n      <td>чебоксары</td>\n      <td>37</td>\n      <td>1</td>\n    </tr>\n    <tr>\n      <th>9</th>\n      <td>Левина</td>\n      <td>nan</td>\n      <td>56</td>\n      <td>0</td>\n    </tr>\n    <tr>\n      <th>10</th>\n      <td>Фикс</td>\n      <td>рига</td>\n      <td>43</td>\n      <td>0</td>\n    </tr>\n  </tbody>\n</table>\n</div>"
     },
     "metadata": {},
     "execution_count": 30
    }
   ],
   "source": [
    "# Задание 4.\n",
    "sample2 = sample\n",
    "sample2.profession = sample2.profession.apply(profession_code)\n",
    "sample2"
   ]
  },
  {
   "cell_type": "code",
   "execution_count": 31,
   "metadata": {},
   "outputs": [],
   "source": [
    "# Задание 5.\n",
    "def age_category(age):\n",
    "    if age < 23:\n",
    "        return 'молодой'\n",
    "    elif age>=23 & age<=35:\n",
    "        return 'средний'\n",
    "    else: \n",
    "        return 'зрелый'"
   ]
  },
  {
   "cell_type": "code",
   "execution_count": 33,
   "metadata": {},
   "outputs": [
    {
     "output_type": "execute_result",
     "data": {
      "text/plain": [
       "            name         city  age  profession Age_category\n",
       "0         Иванов       москва   26           2      средний\n",
       "1            NaN    волгоград   32           1      средний\n",
       "2         Иванов       москва   26           2      средний\n",
       "3        sidorov  владивосток   44           1      средний\n",
       "4        _______        курск   51           2      средний\n",
       "5       Кузнецов         сочи   20           0      молодой\n",
       "6          Сажин       сургут   30           0      средний\n",
       "7   Котлеревский   йошкар-ола   33           0      средний\n",
       "8     Завалишина    чебоксары   37           1      средний\n",
       "9         Левина          nan   56           0      средний\n",
       "10          Фикс         рига   43           0      средний"
      ],
      "text/html": "<div>\n<style scoped>\n    .dataframe tbody tr th:only-of-type {\n        vertical-align: middle;\n    }\n\n    .dataframe tbody tr th {\n        vertical-align: top;\n    }\n\n    .dataframe thead th {\n        text-align: right;\n    }\n</style>\n<table border=\"1\" class=\"dataframe\">\n  <thead>\n    <tr style=\"text-align: right;\">\n      <th></th>\n      <th>name</th>\n      <th>city</th>\n      <th>age</th>\n      <th>profession</th>\n      <th>Age_category</th>\n    </tr>\n  </thead>\n  <tbody>\n    <tr>\n      <th>0</th>\n      <td>Иванов</td>\n      <td>москва</td>\n      <td>26</td>\n      <td>2</td>\n      <td>средний</td>\n    </tr>\n    <tr>\n      <th>1</th>\n      <td>NaN</td>\n      <td>волгоград</td>\n      <td>32</td>\n      <td>1</td>\n      <td>средний</td>\n    </tr>\n    <tr>\n      <th>2</th>\n      <td>Иванов</td>\n      <td>москва</td>\n      <td>26</td>\n      <td>2</td>\n      <td>средний</td>\n    </tr>\n    <tr>\n      <th>3</th>\n      <td>sidorov</td>\n      <td>владивосток</td>\n      <td>44</td>\n      <td>1</td>\n      <td>средний</td>\n    </tr>\n    <tr>\n      <th>4</th>\n      <td>_______</td>\n      <td>курск</td>\n      <td>51</td>\n      <td>2</td>\n      <td>средний</td>\n    </tr>\n    <tr>\n      <th>5</th>\n      <td>Кузнецов</td>\n      <td>сочи</td>\n      <td>20</td>\n      <td>0</td>\n      <td>молодой</td>\n    </tr>\n    <tr>\n      <th>6</th>\n      <td>Сажин</td>\n      <td>сургут</td>\n      <td>30</td>\n      <td>0</td>\n      <td>средний</td>\n    </tr>\n    <tr>\n      <th>7</th>\n      <td>Котлеревский</td>\n      <td>йошкар-ола</td>\n      <td>33</td>\n      <td>0</td>\n      <td>средний</td>\n    </tr>\n    <tr>\n      <th>8</th>\n      <td>Завалишина</td>\n      <td>чебоксары</td>\n      <td>37</td>\n      <td>1</td>\n      <td>средний</td>\n    </tr>\n    <tr>\n      <th>9</th>\n      <td>Левина</td>\n      <td>nan</td>\n      <td>56</td>\n      <td>0</td>\n      <td>средний</td>\n    </tr>\n    <tr>\n      <th>10</th>\n      <td>Фикс</td>\n      <td>рига</td>\n      <td>43</td>\n      <td>0</td>\n      <td>средний</td>\n    </tr>\n  </tbody>\n</table>\n</div>"
     },
     "metadata": {},
     "execution_count": 33
    }
   ],
   "source": [
    "# Задание 6.\n",
    "sample['Age_category'] = sample.age.apply(age_category)\n",
    "sample"
   ]
  },
  {
   "cell_type": "code",
   "execution_count": 57,
   "metadata": {},
   "outputs": [],
   "source": [
    "# Задание 7.\n",
    "def replace_user_id(s):\n",
    "    st = s.replace('Запись пользователя № - ', '')\n",
    "    st = st.replace('#error', '')\n",
    "    return st\n"
   ]
  },
  {
   "cell_type": "code",
   "execution_count": 60,
   "metadata": {},
   "outputs": [],
   "source": [
    "log2 = log\n",
    "log2.user_id = log2.user_id.apply(replace_user_id)\n",
    "#print (log2.user_id.str.replace('Запись пользователя № - ', ''))"
   ]
  },
  {
   "cell_type": "code",
   "execution_count": 64,
   "metadata": {},
   "outputs": [
    {
     "output_type": "execute_result",
     "data": {
      "text/plain": [
       "'2019-01-01 14:06:51'"
      ]
     },
     "metadata": {},
     "execution_count": 64
    }
   ],
   "source": [
    "# Задание 8.\n",
    "t = log.time[0]\n",
    "t = t.replace('[','')\n",
    "t"
   ]
  },
  {
   "cell_type": "code",
   "execution_count": 88,
   "metadata": {},
   "outputs": [
    {
     "output_type": "execute_result",
     "data": {
      "text/plain": [
       "      user_id                 time      bet      win\n",
       "0    user_919  2019-01-01 14:06:51      NaN      NaN\n",
       "1    user_973  2019-01-01 14:51:16      NaN      NaN\n",
       "2    user_903  2019-01-01 16:31:16      NaN      NaN\n",
       "3    user_954  2019-01-01 17:17:51      NaN      NaN\n",
       "4    user_954  2019-01-01 21:31:18      NaN      NaN\n",
       "..        ...                  ...      ...      ...\n",
       "995  user_984   2019-04-20 9:59:58   9754.0      NaN\n",
       "996                            nan  10054.0  29265.0\n",
       "997                            nan  10454.0      NaN\n",
       "998                            nan   1000.0      NaN\n",
       "999                            nan  10754.0      NaN\n",
       "\n",
       "[1000 rows x 4 columns]"
      ],
      "text/html": "<div>\n<style scoped>\n    .dataframe tbody tr th:only-of-type {\n        vertical-align: middle;\n    }\n\n    .dataframe tbody tr th {\n        vertical-align: top;\n    }\n\n    .dataframe thead th {\n        text-align: right;\n    }\n</style>\n<table border=\"1\" class=\"dataframe\">\n  <thead>\n    <tr style=\"text-align: right;\">\n      <th></th>\n      <th>user_id</th>\n      <th>time</th>\n      <th>bet</th>\n      <th>win</th>\n    </tr>\n  </thead>\n  <tbody>\n    <tr>\n      <th>0</th>\n      <td>user_919</td>\n      <td>2019-01-01 14:06:51</td>\n      <td>NaN</td>\n      <td>NaN</td>\n    </tr>\n    <tr>\n      <th>1</th>\n      <td>user_973</td>\n      <td>2019-01-01 14:51:16</td>\n      <td>NaN</td>\n      <td>NaN</td>\n    </tr>\n    <tr>\n      <th>2</th>\n      <td>user_903</td>\n      <td>2019-01-01 16:31:16</td>\n      <td>NaN</td>\n      <td>NaN</td>\n    </tr>\n    <tr>\n      <th>3</th>\n      <td>user_954</td>\n      <td>2019-01-01 17:17:51</td>\n      <td>NaN</td>\n      <td>NaN</td>\n    </tr>\n    <tr>\n      <th>4</th>\n      <td>user_954</td>\n      <td>2019-01-01 21:31:18</td>\n      <td>NaN</td>\n      <td>NaN</td>\n    </tr>\n    <tr>\n      <th>...</th>\n      <td>...</td>\n      <td>...</td>\n      <td>...</td>\n      <td>...</td>\n    </tr>\n    <tr>\n      <th>995</th>\n      <td>user_984</td>\n      <td>2019-04-20 9:59:58</td>\n      <td>9754.0</td>\n      <td>NaN</td>\n    </tr>\n    <tr>\n      <th>996</th>\n      <td></td>\n      <td>nan</td>\n      <td>10054.0</td>\n      <td>29265.0</td>\n    </tr>\n    <tr>\n      <th>997</th>\n      <td></td>\n      <td>nan</td>\n      <td>10454.0</td>\n      <td>NaN</td>\n    </tr>\n    <tr>\n      <th>998</th>\n      <td></td>\n      <td>nan</td>\n      <td>1000.0</td>\n      <td>NaN</td>\n    </tr>\n    <tr>\n      <th>999</th>\n      <td></td>\n      <td>nan</td>\n      <td>10754.0</td>\n      <td>NaN</td>\n    </tr>\n  </tbody>\n</table>\n<p>1000 rows × 4 columns</p>\n</div>"
     },
     "metadata": {},
     "execution_count": 88
    }
   ],
   "source": [
    "# Задание 9.\n",
    "log2.time = log2.time.apply(lambda s: s if pd.isna(s) else str(s).replace('[','')  )\n",
    "log2\n",
    "#log2.bet.nan()"
   ]
  },
  {
   "cell_type": "code",
   "execution_count": 97,
   "metadata": {},
   "outputs": [
    {
     "output_type": "execute_result",
     "data": {
      "text/plain": [
       "      user_id                 time      bet     win\n",
       "0    user_919  2019-01-01 14:06:51      NaN     NaN\n",
       "1    user_973  2019-01-01 14:51:16      NaN     NaN\n",
       "2    user_903  2019-01-01 16:31:16      NaN     NaN\n",
       "3    user_954  2019-01-01 17:17:51      NaN     NaN\n",
       "4    user_954  2019-01-01 21:31:18      NaN     NaN\n",
       "..        ...                  ...      ...     ...\n",
       "991  user_965  2019-04-20 12:55:41    800.0  6927.0\n",
       "992  user_967  2019-04-20 14:59:36  10154.0     NaN\n",
       "993  user_973  2019-04-20 17:09:56  10254.0     NaN\n",
       "994  user_977  2019-04-20 18:10:07  10354.0     NaN\n",
       "995  user_984   2019-04-20 9:59:58   9754.0     NaN\n",
       "\n",
       "[985 rows x 4 columns]"
      ],
      "text/html": "<div>\n<style scoped>\n    .dataframe tbody tr th:only-of-type {\n        vertical-align: middle;\n    }\n\n    .dataframe tbody tr th {\n        vertical-align: top;\n    }\n\n    .dataframe thead th {\n        text-align: right;\n    }\n</style>\n<table border=\"1\" class=\"dataframe\">\n  <thead>\n    <tr style=\"text-align: right;\">\n      <th></th>\n      <th>user_id</th>\n      <th>time</th>\n      <th>bet</th>\n      <th>win</th>\n    </tr>\n  </thead>\n  <tbody>\n    <tr>\n      <th>0</th>\n      <td>user_919</td>\n      <td>2019-01-01 14:06:51</td>\n      <td>NaN</td>\n      <td>NaN</td>\n    </tr>\n    <tr>\n      <th>1</th>\n      <td>user_973</td>\n      <td>2019-01-01 14:51:16</td>\n      <td>NaN</td>\n      <td>NaN</td>\n    </tr>\n    <tr>\n      <th>2</th>\n      <td>user_903</td>\n      <td>2019-01-01 16:31:16</td>\n      <td>NaN</td>\n      <td>NaN</td>\n    </tr>\n    <tr>\n      <th>3</th>\n      <td>user_954</td>\n      <td>2019-01-01 17:17:51</td>\n      <td>NaN</td>\n      <td>NaN</td>\n    </tr>\n    <tr>\n      <th>4</th>\n      <td>user_954</td>\n      <td>2019-01-01 21:31:18</td>\n      <td>NaN</td>\n      <td>NaN</td>\n    </tr>\n    <tr>\n      <th>...</th>\n      <td>...</td>\n      <td>...</td>\n      <td>...</td>\n      <td>...</td>\n    </tr>\n    <tr>\n      <th>991</th>\n      <td>user_965</td>\n      <td>2019-04-20 12:55:41</td>\n      <td>800.0</td>\n      <td>6927.0</td>\n    </tr>\n    <tr>\n      <th>992</th>\n      <td>user_967</td>\n      <td>2019-04-20 14:59:36</td>\n      <td>10154.0</td>\n      <td>NaN</td>\n    </tr>\n    <tr>\n      <th>993</th>\n      <td>user_973</td>\n      <td>2019-04-20 17:09:56</td>\n      <td>10254.0</td>\n      <td>NaN</td>\n    </tr>\n    <tr>\n      <th>994</th>\n      <td>user_977</td>\n      <td>2019-04-20 18:10:07</td>\n      <td>10354.0</td>\n      <td>NaN</td>\n    </tr>\n    <tr>\n      <th>995</th>\n      <td>user_984</td>\n      <td>2019-04-20 9:59:58</td>\n      <td>9754.0</td>\n      <td>NaN</td>\n    </tr>\n  </tbody>\n</table>\n<p>985 rows × 4 columns</p>\n</div>"
     },
     "metadata": {},
     "execution_count": 97
    }
   ],
   "source": [
    "##### 12. Финальное задание\n",
    "log = pd.read_csv('log.xls', header=None)\n",
    "log.columns = ['user_id','time','bet','win']\n",
    "log = log[~log.user_id.str.contains('error')]\n",
    "log.user_id = log.user_id.apply(lambda s: s.replace('Запись пользователя № - ', ''))\n",
    "log.time = log.time.apply(lambda s: s if pd.isna(s) else str(s).replace('[','')  )\n",
    "log"
   ]
  },
  {
   "cell_type": "code",
   "execution_count": null,
   "metadata": {},
   "outputs": [],
   "source": []
  }
 ]
}