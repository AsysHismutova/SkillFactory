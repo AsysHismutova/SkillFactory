{
 "metadata": {
  "language_info": {
   "codemirror_mode": {
    "name": "ipython",
    "version": 3
   },
   "file_extension": ".py",
   "mimetype": "text/x-python",
   "name": "python",
   "nbconvert_exporter": "python",
   "pygments_lexer": "ipython3",
   "version": "3.8.2"
  },
  "orig_nbformat": 2,
  "kernelspec": {
   "name": "python382jvsc74a57bd02db524e06e9f5f4ffedc911c917cb75e12dbc923643829bf417064a77eb14d37",
   "display_name": "Python 3.8.2 32-bit"
  },
  "metadata": {
   "interpreter": {
    "hash": "2db524e06e9f5f4ffedc911c917cb75e12dbc923643829bf417064a77eb14d37"
   }
  }
 },
 "nbformat": 4,
 "nbformat_minor": 2,
 "cells": [
  {
   "cell_type": "code",
   "execution_count": 9,
   "metadata": {},
   "outputs": [
    {
     "output_type": "execute_result",
     "data": {
      "text/plain": [
       "40.6"
      ]
     },
     "metadata": {},
     "execution_count": 9
    }
   ],
   "source": [
    "mu = 0.1*38 + 0.1*39 + 0.3*40 + 0.2*41 + 0.2*42 + 0.1*43\n",
    "mu"
   ]
  },
  {
   "cell_type": "code",
   "execution_count": 10,
   "metadata": {},
   "outputs": [
    {
     "output_type": "execute_result",
     "data": {
      "text/plain": [
       "2.04"
      ]
     },
     "metadata": {},
     "execution_count": 10
    }
   ],
   "source": [
    "((38-mu)**2)*0.1 + ((39-mu)**2)*0.1 + ((40-mu)**2)*0.3 + ((41-mu)**2)*0.2 + ((42-mu)**2)*0.2 + ((43-mu)**2)*0.1"
   ]
  },
  {
   "cell_type": "code",
   "execution_count": 19,
   "metadata": {},
   "outputs": [
    {
     "output_type": "execute_result",
     "data": {
      "text/plain": [
       "14.2828568570857"
      ]
     },
     "metadata": {},
     "execution_count": 19
    }
   ],
   "source": [
    "204 ** (0.5)"
   ]
  },
  {
   "cell_type": "code",
   "execution_count": 17,
   "metadata": {},
   "outputs": [
    {
     "output_type": "execute_result",
     "data": {
      "text/plain": [
       "426.0"
      ]
     },
     "metadata": {},
     "execution_count": 17
    }
   ],
   "source": [
    "mu2 = mu*10+20\n",
    "mu2"
   ]
  },
  {
   "cell_type": "code",
   "execution_count": 18,
   "metadata": {},
   "outputs": [
    {
     "output_type": "execute_result",
     "data": {
      "text/plain": [
       "204.00000000000003"
      ]
     },
     "metadata": {},
     "execution_count": 18
    }
   ],
   "source": [
    "((38*10+20-mu2)**2)*0.1 + ((39*10+20-mu2)**2)*0.1 + ((40*10+20-mu2)**2)*0.3 + ((41*10+20-mu2)**2)*0.2 + ((42*10+20-mu2)**2)*0.2 + ((43*10+20-mu2)**2)*0.1"
   ]
  },
  {
   "cell_type": "code",
   "execution_count": 23,
   "metadata": {},
   "outputs": [],
   "source": [
    "import numpy as np\n"
   ]
  },
  {
   "cell_type": "code",
   "execution_count": 38,
   "metadata": {},
   "outputs": [],
   "source": [
    "x = np.array([1, 2, 3, 4])\n",
    "px = np.array([0.2, 0.1, 0.4, 0.3])"
   ]
  },
  {
   "cell_type": "code",
   "execution_count": 39,
   "metadata": {},
   "outputs": [
    {
     "output_type": "execute_result",
     "data": {
      "text/plain": [
       "2.8"
      ]
     },
     "metadata": {},
     "execution_count": 39
    }
   ],
   "source": [
    "mux = np.sum(x*px)\n",
    "mux"
   ]
  },
  {
   "cell_type": "code",
   "execution_count": 33,
   "metadata": {},
   "outputs": [],
   "source": [
    "y = np.array([-1, 0, 1, 2])\n",
    "py = np.array([0.5, 0.2, 0.1, 0.2])"
   ]
  },
  {
   "cell_type": "code",
   "execution_count": 34,
   "metadata": {},
   "outputs": [
    {
     "output_type": "execute_result",
     "data": {
      "text/plain": [
       "0.0"
      ]
     },
     "metadata": {},
     "execution_count": 34
    }
   ],
   "source": [
    "muy = np.sum(y*py)\n",
    "muy"
   ]
  },
  {
   "cell_type": "code",
   "execution_count": 42,
   "metadata": {},
   "outputs": [
    {
     "output_type": "execute_result",
     "data": {
      "text/plain": [
       "1.16"
      ]
     },
     "metadata": {},
     "execution_count": 42
    }
   ],
   "source": [
    "dsx = np.sum(((x - mux)**2)*px)\n",
    "dsx"
   ]
  },
  {
   "cell_type": "code",
   "execution_count": 43,
   "metadata": {},
   "outputs": [
    {
     "output_type": "execute_result",
     "data": {
      "text/plain": [
       "1.4"
      ]
     },
     "metadata": {},
     "execution_count": 43
    }
   ],
   "source": [
    "dsy = np.sum(((y - muy)**2)*py)\n",
    "dsy"
   ]
  },
  {
   "cell_type": "code",
   "execution_count": 45,
   "metadata": {},
   "outputs": [
    {
     "output_type": "execute_result",
     "data": {
      "text/plain": [
       "9.399999999999999"
      ]
     },
     "metadata": {},
     "execution_count": 45
    }
   ],
   "source": [
    "muu = 3*mux + 1\n",
    "muu"
   ]
  },
  {
   "cell_type": "code",
   "execution_count": 46,
   "metadata": {},
   "outputs": [
    {
     "output_type": "execute_result",
     "data": {
      "text/plain": [
       "5.0"
      ]
     },
     "metadata": {},
     "execution_count": 46
    }
   ],
   "source": [
    "mus = 5 - muy\n",
    "mus"
   ]
  },
  {
   "cell_type": "code",
   "execution_count": 48,
   "metadata": {},
   "outputs": [
    {
     "output_type": "execute_result",
     "data": {
      "text/plain": [
       "10.44"
      ]
     },
     "metadata": {},
     "execution_count": 48
    }
   ],
   "source": [
    "dsu = 9*dsx\n",
    "dsu"
   ]
  },
  {
   "cell_type": "code",
   "execution_count": 49,
   "metadata": {},
   "outputs": [
    {
     "output_type": "execute_result",
     "data": {
      "text/plain": [
       "4.399999999999999"
      ]
     },
     "metadata": {},
     "execution_count": 49
    }
   ],
   "source": [
    "muu - mus"
   ]
  },
  {
   "cell_type": "code",
   "execution_count": 50,
   "metadata": {},
   "outputs": [
    {
     "output_type": "execute_result",
     "data": {
      "text/plain": [
       "11.84"
      ]
     },
     "metadata": {},
     "execution_count": 50
    }
   ],
   "source": [
    "dsu + dsy"
   ]
  },
  {
   "cell_type": "code",
   "execution_count": null,
   "metadata": {},
   "outputs": [],
   "source": [
    "### 2.8. Как найти вероятность X через Z?"
   ]
  },
  {
   "cell_type": "code",
   "execution_count": 52,
   "metadata": {},
   "outputs": [],
   "source": [
    "from scipy.stats import norm"
   ]
  },
  {
   "cell_type": "code",
   "execution_count": 57,
   "metadata": {},
   "outputs": [
    {
     "output_type": "execute_result",
     "data": {
      "text/plain": [
       "0.02275013194817921"
      ]
     },
     "metadata": {},
     "execution_count": 57
    }
   ],
   "source": [
    "norm.cdf(2)"
   ]
  },
  {
   "cell_type": "code",
   "execution_count": 67,
   "metadata": {},
   "outputs": [
    {
     "output_type": "execute_result",
     "data": {
      "text/plain": [
       "0.15865525393145707"
      ]
     },
     "metadata": {},
     "execution_count": 67
    }
   ],
   "source": [
    "1 - norm.cdf(75, 70, 5)"
   ]
  },
  {
   "cell_type": "code",
   "execution_count": 66,
   "metadata": {},
   "outputs": [
    {
     "output_type": "execute_result",
     "data": {
      "text/plain": [
       "2.3263478740408408"
      ]
     },
     "metadata": {},
     "execution_count": 66
    }
   ],
   "source": [
    "norm.ppf(0.99)"
   ]
  },
  {
   "cell_type": "code",
   "execution_count": 68,
   "metadata": {},
   "outputs": [
    {
     "output_type": "execute_result",
     "data": {
      "text/plain": [
       "0.02666666666666667"
      ]
     },
     "metadata": {},
     "execution_count": 68
    }
   ],
   "source": [
    "p = 0.2\n",
    "n = 225\n",
    "mu = p\n",
    "stdp = (p*(1-p)/n) ** 0.5\n",
    "stdp"
   ]
  },
  {
   "cell_type": "code",
   "execution_count": 71,
   "metadata": {},
   "outputs": [
    {
     "output_type": "execute_result",
     "data": {
      "text/plain": [
       "0.06680720126885807"
      ]
     },
     "metadata": {},
     "execution_count": 71
    }
   ],
   "source": [
    "norm.cdf(0.16, p, stdp)"
   ]
  },
  {
   "cell_type": "code",
   "execution_count": 77,
   "metadata": {},
   "outputs": [],
   "source": [
    "x = np.array([2, 3, 4, 5])\n",
    "px = np.array([0.1, 0.2, 0.6, 0.1])"
   ]
  },
  {
   "cell_type": "code",
   "execution_count": 78,
   "metadata": {},
   "outputs": [
    {
     "output_type": "execute_result",
     "data": {
      "text/plain": [
       "3.7"
      ]
     },
     "metadata": {},
     "execution_count": 78
    }
   ],
   "source": [
    "mux = np.sum(x*px)\n",
    "mux"
   ]
  },
  {
   "cell_type": "code",
   "execution_count": 80,
   "metadata": {},
   "outputs": [
    {
     "output_type": "execute_result",
     "data": {
      "text/plain": [
       "18.0"
      ]
     },
     "metadata": {},
     "execution_count": 80
    }
   ],
   "source": [
    "np.sum((x**2)*px) + mux"
   ]
  },
  {
   "cell_type": "code",
   "execution_count": 81,
   "metadata": {},
   "outputs": [],
   "source": [
    "mu = 700\n",
    "sd = 120"
   ]
  },
  {
   "cell_type": "code",
   "execution_count": 83,
   "metadata": {},
   "outputs": [
    {
     "output_type": "execute_result",
     "data": {
      "text/plain": [
       "0.8413447460685429"
      ]
     },
     "metadata": {},
     "execution_count": 83
    }
   ],
   "source": [
    "norm.cdf(820, mu, sd)"
   ]
  },
  {
   "cell_type": "code",
   "execution_count": 87,
   "metadata": {},
   "outputs": [
    {
     "output_type": "execute_result",
     "data": {
      "text/plain": [
       "1.2426384203856191"
      ]
     },
     "metadata": {},
     "execution_count": 87
    }
   ],
   "source": [
    "norm.cdf(820, mu, sd) + (1 - norm.cdf(730, mu, sd))"
   ]
  },
  {
   "cell_type": "code",
   "execution_count": 86,
   "metadata": {},
   "outputs": [
    {
     "output_type": "execute_result",
     "data": {
      "text/plain": [
       "502.61756476582326"
      ]
     },
     "metadata": {},
     "execution_count": 86
    }
   ],
   "source": [
    "norm.ppf(0.05, mu, sd)"
   ]
  },
  {
   "cell_type": "code",
   "execution_count": null,
   "metadata": {},
   "outputs": [],
   "source": []
  }
 ]
}